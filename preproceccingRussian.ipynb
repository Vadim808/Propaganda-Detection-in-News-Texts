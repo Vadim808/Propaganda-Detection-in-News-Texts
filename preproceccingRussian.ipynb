{
 "cells": [
  {
   "cell_type": "code",
   "execution_count": 76,
   "metadata": {},
   "outputs": [],
   "source": [
    "import pandas as pd\n",
    "\n",
    "data_pd = pd.read_csv(\"data.csv\")\n",
    "data_pd = data_pd.reset_index().drop(columns=[\"index\"])"
   ]
  },
  {
   "cell_type": "code",
   "execution_count": 77,
   "metadata": {},
   "outputs": [],
   "source": [
    "def make_list(x):\n",
    "    x = x[1:-1].split()\n",
    "    x = list(map(int, x))\n",
    "    return x\n",
    "\n",
    "data_pd[\"prop_mask\"] = data_pd[\"prop_mask\"].apply(lambda x: make_list(x))"
   ]
  },
  {
   "cell_type": "code",
   "execution_count": 78,
   "metadata": {},
   "outputs": [],
   "source": [
    "def preprocessing_translate(text, mask):\n",
    "    text_parts = []\n",
    "    text_part = \"\"\n",
    "    c_flag = mask[0]\n",
    "    parts_type = [c_flag] \n",
    "    for i, flag in enumerate(mask):\n",
    "        if c_flag == flag:\n",
    "            text_part += text[i]\n",
    "        else:\n",
    "            c_flag = flag\n",
    "            parts_type += [c_flag]\n",
    "            text_parts += [text_part]\n",
    "            text_part = \"\"\n",
    "    text_parts += [text_part]\n",
    "    return text_parts, parts_type"
   ]
  },
  {
   "cell_type": "code",
   "execution_count": 79,
   "metadata": {},
   "outputs": [],
   "source": [
    "from googletrans import Translator\n",
    "\n",
    "translator= Translator()\n",
    "\n",
    "def preproccesing_connect(text_parts, parts_type):\n",
    "    prop_mask = []\n",
    "    text = []\n",
    "    for i, text_part in enumerate(text_parts):\n",
    "        text_part = \" \".join(text_part.split())\n",
    "        rus_text = translator.translate(text_part, dest='ru').text\n",
    "        text_len = len(rus_text)\n",
    "        part_type = parts_type[i]\n",
    "        if part_type == 1 or (part_type == 0 and len(text_parts) == 1):\n",
    "            prop_mask += [part_type] * text_len\n",
    "        elif i == 0 or i == len(text_parts) - 1:\n",
    "            prop_mask += [part_type] * (text_len + 1)\n",
    "        else:\n",
    "            prop_mask += [part_type] * (text_len + 2)\n",
    "        text += [rus_text]\n",
    "    return prop_mask, \" \".join(text)"
   ]
  },
  {
   "cell_type": "code",
   "execution_count": null,
   "metadata": {},
   "outputs": [],
   "source": [
    "new_rus_texts = []\n",
    "new_prop_mask = []\n",
    "for i in range(data_pd.shape[0]):\n",
    "    texts, part_types = preprocessing_translate(data_pd[\"text\"][i], data_pd[\"prop_mask\"][i])\n",
    "    prop_mask, text = preproccesing_connect(texts, part_types)\n",
    "    new_rus_texts += [text]\n",
    "    new_prop_mask += [prop_mask]\n",
    "\n",
    "techniques = data_pd[\"techniques\"]\n",
    "new_data = pd.DataFrame(np.array([new_rus_texts, new_prop_mask, techniques], dtype=object).T,\n",
    "                        columns = [\"text\", \"prop_mask\", \"technique\"])"
   ]
  }
 ],
 "metadata": {
  "kernelspec": {
   "display_name": "Python 3",
   "language": "python",
   "name": "python3"
  },
  "language_info": {
   "codemirror_mode": {
    "name": "ipython",
    "version": 3
   },
   "file_extension": ".py",
   "mimetype": "text/x-python",
   "name": "python",
   "nbconvert_exporter": "python",
   "pygments_lexer": "ipython3",
   "version": "3.8.5"
  }
 },
 "nbformat": 4,
 "nbformat_minor": 4
}
