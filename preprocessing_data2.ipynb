{
 "cells": [
  {
   "cell_type": "code",
   "execution_count": 129,
   "metadata": {},
   "outputs": [],
   "source": [
    "from os import listdir\n",
    "import pandas as pd"
   ]
  },
  {
   "cell_type": "code",
   "execution_count": 130,
   "metadata": {},
   "outputs": [],
   "source": [
    "TEXTS_PATH = \"data2/datasets1/train-articles\"\n",
    "LABELS_PATH = \"data2/datasets1/train-labels-task2-technique-classification\""
   ]
  },
  {
   "cell_type": "code",
   "execution_count": 131,
   "metadata": {},
   "outputs": [],
   "source": [
    "from os import listdir\n",
    "\n",
    "TEXTS_NAMES = listdir(TEXTS_PATH)\n",
    "LABELS_NAMES = []\n",
    "for name in TEXTS_NAMES:\n",
    "    LABELS_NAMES += [name[:-3] + \"task2-TC.labels\"]"
   ]
  },
  {
   "cell_type": "code",
   "execution_count": 132,
   "metadata": {},
   "outputs": [],
   "source": [
    "def read_labels_file(label_path):\n",
    "    f = open(label_path, \"r\")\n",
    "    labels = []\n",
    "    for string in f:\n",
    "        num, technique, start, end = string.split(\"\\t\")\n",
    "        labels += [[int(start), int(end[:-1]), technique]]\n",
    "    labels.sort()\n",
    "    return labels\n",
    "\n",
    "def read_text_file(text_path):\n",
    "    f = open(text_path, \"r\")\n",
    "    return f.read()"
   ]
  },
  {
   "cell_type": "code",
   "execution_count": 133,
   "metadata": {},
   "outputs": [],
   "source": [
    "def separate_text(text, labels):\n",
    "    sep_data = []\n",
    "    positions = [0]\n",
    "    texts = text.split(\"\\n\")\n",
    "    ind = 0\n",
    "    for i in range(len(texts)):\n",
    "        ind += len(texts[i]) + 1\n",
    "        positions += [ind]\n",
    "    c_pos = 0\n",
    "    for label in labels:\n",
    "        while (positions[c_pos] <= label[0] < positions[c_pos + 1]) == 0:\n",
    "            c_pos += 1\n",
    "            if c_pos + 1 == len(positions):\n",
    "                return sep_data\n",
    "        left_edge = positions[c_pos]\n",
    "        sep_data += [[texts[c_pos], \n",
    "                      label[0] - left_edge,\n",
    "                      label[1] - left_edge,\n",
    "                      label[2]]]\n",
    "    return sep_data"
   ]
  },
  {
   "cell_type": "code",
   "execution_count": 134,
   "metadata": {},
   "outputs": [],
   "source": [
    "def add_json_type(d):\n",
    "    el = [{\n",
    "            \"end\": d[1],\n",
    "            \"start\": d[2],\n",
    "            \"technique\": d[3]\n",
    "         }]\n",
    "    return el"
   ]
  },
  {
   "cell_type": "code",
   "execution_count": 135,
   "metadata": {},
   "outputs": [],
   "source": [
    "labels = []\n",
    "texts = []\n",
    "data = []\n",
    "for i in range(len(TEXTS_NAMES)):\n",
    "    text_path = TEXTS_PATH + \"/\" + TEXTS_NAMES[i]\n",
    "    label_path = LABELS_PATH + \"/\" + LABELS_NAMES[i]\n",
    "    labels = read_labels_file(label_path)\n",
    "    text = read_text_file(text_path)\n",
    "    sep_data = separate_text(text, labels)\n",
    "    if len(sep_data) == 0:\n",
    "        continue\n",
    "    c_text = sep_data[0][0]\n",
    "    label = []\n",
    "    for d in sep_data:\n",
    "        if d[0] == c_text:\n",
    "            label += add_json_type(d)\n",
    "        else:\n",
    "            if len(label) != 0:\n",
    "                data += [[c_text, label]]\n",
    "            c_text = d[0]\n",
    "            label = add_json_type(d)\n",
    "    data += [[c_text, label]]"
   ]
  },
  {
   "cell_type": "code",
   "execution_count": 136,
   "metadata": {},
   "outputs": [],
   "source": [
    "data_pd = pd.DataFrame(data, columns=[\"text\", \"labels\"])"
   ]
  },
  {
   "cell_type": "code",
   "execution_count": 137,
   "metadata": {},
   "outputs": [],
   "source": [
    "labels = [\n",
    "    \"Reductio ad hitlerum\",\n",
    "    \"Whataboutism\",\n",
    "    \"Presenting Irrelevant Data (Red Herring)\",\n",
    "    \"Doubt\",\n",
    "    \"Slogans\",\n",
    "    \"Appeal to fear/prejudice\",\n",
    "    \"Obfuscation, Intentional vagueness, Confusion\",\n",
    "    \"Misrepresentation of Someone's Position (Straw Man)\",\n",
    "    \"Glittering generalities (Virtue)\",\n",
    "    \"Appeal to authority\",\n",
    "    \"Repetition\",\n",
    "    \"Bandwagon\",\n",
    "    \"Causal Oversimplification\",\n",
    "    \"Name calling/Labeling\",\n",
    "    \"Thought-terminating cliché\",\n",
    "    \"Flag-waving\",\n",
    "    \"Exaggeration/Minimisation\",\n",
    "    \"Smears\",\n",
    "    \"Loaded Language\",\n",
    "    \"Black-and-white Fallacy/Dictatorship\"\n",
    "]"
   ]
  },
  {
   "cell_type": "code",
   "execution_count": 138,
   "metadata": {},
   "outputs": [],
   "source": [
    "new_corpus_labels = [\n",
    "    \"Loaded_Language\",\n",
    "    \"Name_Calling,Labeling\",\n",
    "    \"Repetition\",\n",
    "    \"Exaggeration,Minimisation\",\n",
    "    \"Doubt\",\n",
    "    \"Appeal_to_fear-prejudice\",\n",
    "    \"Flag-Waving\",\n",
    "    \"Causal_Oversimplification\",\n",
    "    \"Slogans\",\n",
    "    \"Appeal_to_Authority\",\n",
    "    \"Black-and-White_Fallacy\",\n",
    "    \"Thought-terminating_Cliches\",\n",
    "    \"Whataboutism\",\n",
    "    \"Reductio_ad_Hitlerum\",\n",
    "    \"Red_Herring\",\n",
    "    \"Bandwagon\",\n",
    "    \"Obfuscation,Intentional_Vagueness,Confusion\",\n",
    "    \"Straw_Men\"\n",
    "]"
   ]
  },
  {
   "cell_type": "code",
   "execution_count": 139,
   "metadata": {},
   "outputs": [],
   "source": [
    "new_corpus_labels.sort()\n",
    "labels.sort()\n",
    "labels.remove(\"Glittering generalities (Virtue)\")\n",
    "labels.remove(\"Misrepresentation of Someone's Position (Straw Man)\")"
   ]
  },
  {
   "cell_type": "code",
   "execution_count": 140,
   "metadata": {},
   "outputs": [
    {
     "name": "stdout",
     "output_type": "stream",
     "text": [
      "18\n",
      "18\n"
     ]
    }
   ],
   "source": [
    "print(len(labels))\n",
    "print(len(new_corpus_labels))"
   ]
  },
  {
   "cell_type": "code",
   "execution_count": 141,
   "metadata": {},
   "outputs": [],
   "source": [
    "d_change_labels = dict()\n",
    "\n",
    "for i in range(len(labels)):\n",
    "    d_change_labels[new_corpus_labels[i]] = labels[i]\n",
    "\n",
    "d_change_labels[\"Straw_Men\"] = \"Misrepresentation of Someone's Position (Straw Man)\""
   ]
  },
  {
   "cell_type": "code",
   "execution_count": 142,
   "metadata": {},
   "outputs": [
    {
     "data": {
      "text/plain": [
       "{'Appeal_to_Authority': 'Appeal to authority',\n",
       " 'Appeal_to_fear-prejudice': 'Appeal to fear/prejudice',\n",
       " 'Bandwagon': 'Bandwagon',\n",
       " 'Black-and-White_Fallacy': 'Black-and-white Fallacy/Dictatorship',\n",
       " 'Causal_Oversimplification': 'Causal Oversimplification',\n",
       " 'Doubt': 'Doubt',\n",
       " 'Exaggeration,Minimisation': 'Exaggeration/Minimisation',\n",
       " 'Flag-Waving': 'Flag-waving',\n",
       " 'Loaded_Language': 'Loaded Language',\n",
       " 'Name_Calling,Labeling': 'Name calling/Labeling',\n",
       " 'Obfuscation,Intentional_Vagueness,Confusion': 'Obfuscation, Intentional vagueness, Confusion',\n",
       " 'Red_Herring': 'Presenting Irrelevant Data (Red Herring)',\n",
       " 'Reductio_ad_Hitlerum': 'Reductio ad hitlerum',\n",
       " 'Repetition': 'Repetition',\n",
       " 'Slogans': 'Slogans',\n",
       " 'Straw_Men': \"Misrepresentation of Someone's Position (Straw Man)\",\n",
       " 'Thought-terminating_Cliches': 'Thought-terminating cliché',\n",
       " 'Whataboutism': 'Whataboutism'}"
      ]
     },
     "execution_count": 142,
     "metadata": {},
     "output_type": "execute_result"
    }
   ],
   "source": [
    "d_change_labels"
   ]
  },
  {
   "cell_type": "code",
   "execution_count": 143,
   "metadata": {},
   "outputs": [],
   "source": [
    "def correct_technique(old_t, name, data, i):\n",
    "    old_t[\"technique\"] = name\n",
    "    data[\"labels\"][i].append(old_t)"
   ]
  },
  {
   "cell_type": "code",
   "execution_count": 144,
   "metadata": {},
   "outputs": [],
   "source": [
    "wrong_name1 = [\"Bandwagon\", \"Reductio_ad_Hitlerum\"]\n",
    "wrong_name2 = [\"Whataboutism\", \"Straw_Men\", \"Red_Herring\"]\n",
    "\n",
    "def change_technique_name(data, d_change_labels):\n",
    "    for i in range(data.shape[0]):\n",
    "        N = len(data[\"labels\"][i])\n",
    "        j = 0\n",
    "        while j < N:\n",
    "            old_name = data[\"labels\"][i][j][\"technique\"]\n",
    "            if \"Bandwagon,Reductio_ad_hitlerum\" == old_name:\n",
    "                old_t = data[\"labels\"][i].pop(j)\n",
    "                for name in wrong_name1:\n",
    "                    correct_technique(old_t.copy(), name, data, i)\n",
    "                continue\n",
    "            if \"Whataboutism,Straw_Men,Red_Herring\" == old_name:\n",
    "                old_t = data[\"labels\"][i].pop(j)\n",
    "                for name in wrong_name2:\n",
    "                    correct_technique(old_t.copy(), name, data, i)\n",
    "                continue\n",
    "            new_name = d_change_labels[data[\"labels\"][i][j][\"technique\"]]\n",
    "            data[\"labels\"][i][j][\"technique\"] = new_name\n",
    "            j += 1"
   ]
  },
  {
   "cell_type": "code",
   "execution_count": 145,
   "metadata": {},
   "outputs": [],
   "source": [
    "change_technique_name(data_pd, d_change_labels)"
   ]
  },
  {
   "cell_type": "code",
   "execution_count": 146,
   "metadata": {},
   "outputs": [
    {
     "data": {
      "text/html": [
       "<div>\n",
       "<style scoped>\n",
       "    .dataframe tbody tr th:only-of-type {\n",
       "        vertical-align: middle;\n",
       "    }\n",
       "\n",
       "    .dataframe tbody tr th {\n",
       "        vertical-align: top;\n",
       "    }\n",
       "\n",
       "    .dataframe thead th {\n",
       "        text-align: right;\n",
       "    }\n",
       "</style>\n",
       "<table border=\"1\" class=\"dataframe\">\n",
       "  <thead>\n",
       "    <tr style=\"text-align: right;\">\n",
       "      <th></th>\n",
       "      <th>text</th>\n",
       "      <th>labels</th>\n",
       "    </tr>\n",
       "  </thead>\n",
       "  <tbody>\n",
       "    <tr>\n",
       "      <th>0</th>\n",
       "      <td>David Duke, the white supremacist icon and for...</td>\n",
       "      <td>[{'end': 16, 'start': 38, 'technique': 'Name c...</td>\n",
       "    </tr>\n",
       "    <tr>\n",
       "      <th>1</th>\n",
       "      <td>However, one individual who represents the Mus...</td>\n",
       "      <td>[{'end': 97, 'start': 105, 'technique': 'Loade...</td>\n",
       "    </tr>\n",
       "    <tr>\n",
       "      <th>2</th>\n",
       "      <td>Three of the videos were put out by Duke’s off...</td>\n",
       "      <td>[{'end': 127, 'start': 150, 'technique': 'Name...</td>\n",
       "    </tr>\n",
       "    <tr>\n",
       "      <th>3</th>\n",
       "      <td>At this same rally, a white nationalist plowed...</td>\n",
       "      <td>[{'end': 22, 'start': 120, 'technique': 'Appea...</td>\n",
       "    </tr>\n",
       "    <tr>\n",
       "      <th>4</th>\n",
       "      <td>In February 2016, Zakkout publicized on his Fa...</td>\n",
       "      <td>[{'end': 97, 'start': 209, 'technique': 'Appea...</td>\n",
       "    </tr>\n",
       "    <tr>\n",
       "      <th>...</th>\n",
       "      <td>...</td>\n",
       "      <td>...</td>\n",
       "    </tr>\n",
       "    <tr>\n",
       "      <th>4493</th>\n",
       "      <td>“Policies like background checks on all gun sa...</td>\n",
       "      <td>[{'end': 54, 'start': 78, 'technique': 'Slogan...</td>\n",
       "    </tr>\n",
       "    <tr>\n",
       "      <th>4494</th>\n",
       "      <td>The group also passed a resolution backing red...</td>\n",
       "      <td>[{'end': 43, 'start': 56, 'technique': 'Repeti...</td>\n",
       "    </tr>\n",
       "    <tr>\n",
       "      <th>4495</th>\n",
       "      <td>“Policies like background checks on all gun sa...</td>\n",
       "      <td>[{'end': 54, 'start': 67, 'technique': 'Repeti...</td>\n",
       "    </tr>\n",
       "    <tr>\n",
       "      <th>4496</th>\n",
       "      <td>“The U.S. Conference of Mayors will continue d...</td>\n",
       "      <td>[{'end': 83, 'start': 98, 'technique': 'Flag-w...</td>\n",
       "    </tr>\n",
       "    <tr>\n",
       "      <th>4497</th>\n",
       "      <td>“It’s time for our leaders in Washington to fo...</td>\n",
       "      <td>[{'end': 15, 'start': 26, 'technique': 'Flag-w...</td>\n",
       "    </tr>\n",
       "  </tbody>\n",
       "</table>\n",
       "<p>4498 rows × 2 columns</p>\n",
       "</div>"
      ],
      "text/plain": [
       "                                                   text  \\\n",
       "0     David Duke, the white supremacist icon and for...   \n",
       "1     However, one individual who represents the Mus...   \n",
       "2     Three of the videos were put out by Duke’s off...   \n",
       "3     At this same rally, a white nationalist plowed...   \n",
       "4     In February 2016, Zakkout publicized on his Fa...   \n",
       "...                                                 ...   \n",
       "4493  “Policies like background checks on all gun sa...   \n",
       "4494  The group also passed a resolution backing red...   \n",
       "4495  “Policies like background checks on all gun sa...   \n",
       "4496  “The U.S. Conference of Mayors will continue d...   \n",
       "4497  “It’s time for our leaders in Washington to fo...   \n",
       "\n",
       "                                                 labels  \n",
       "0     [{'end': 16, 'start': 38, 'technique': 'Name c...  \n",
       "1     [{'end': 97, 'start': 105, 'technique': 'Loade...  \n",
       "2     [{'end': 127, 'start': 150, 'technique': 'Name...  \n",
       "3     [{'end': 22, 'start': 120, 'technique': 'Appea...  \n",
       "4     [{'end': 97, 'start': 209, 'technique': 'Appea...  \n",
       "...                                                 ...  \n",
       "4493  [{'end': 54, 'start': 78, 'technique': 'Slogan...  \n",
       "4494  [{'end': 43, 'start': 56, 'technique': 'Repeti...  \n",
       "4495  [{'end': 54, 'start': 67, 'technique': 'Repeti...  \n",
       "4496  [{'end': 83, 'start': 98, 'technique': 'Flag-w...  \n",
       "4497  [{'end': 15, 'start': 26, 'technique': 'Flag-w...  \n",
       "\n",
       "[4498 rows x 2 columns]"
      ]
     },
     "execution_count": 146,
     "metadata": {},
     "output_type": "execute_result"
    }
   ],
   "source": [
    "data_pd"
   ]
  },
  {
   "cell_type": "code",
   "execution_count": 147,
   "metadata": {},
   "outputs": [],
   "source": [
    "data_pd.to_csv(\"data2/datasets1/new_data2.csv\", index=False)"
   ]
  }
 ],
 "metadata": {
  "kernelspec": {
   "display_name": "Python 3",
   "language": "python",
   "name": "python3"
  },
  "language_info": {
   "codemirror_mode": {
    "name": "ipython",
    "version": 3
   },
   "file_extension": ".py",
   "mimetype": "text/x-python",
   "name": "python",
   "nbconvert_exporter": "python",
   "pygments_lexer": "ipython3",
   "version": "3.8.5"
  }
 },
 "nbformat": 4,
 "nbformat_minor": 4
}
