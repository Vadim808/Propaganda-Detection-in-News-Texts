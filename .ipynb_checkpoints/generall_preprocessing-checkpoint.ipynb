{
 "cells": [
  {
   "cell_type": "code",
   "execution_count": null,
   "metadata": {},
   "outputs": [],
   "source": [
    "import pandas as pd\n",
    "import numpy as np\n",
    "import json"
   ]
  },
  {
   "cell_type": "code",
   "execution_count": null,
   "metadata": {},
   "outputs": [],
   "source": [
    "train_data1_pd = pd.read_json(\"data1/training_set_task2.txt\")\n",
    "train_data2_pd = pd.read_csv(\"data2/datasets1/new_data2.csv\")"
   ]
  },
  {
   "cell_type": "code",
   "execution_count": null,
   "metadata": {},
   "outputs": [],
   "source": [
    "train_data1_pd = train_data1_pd.drop(columns=[\"id\"])\n",
    "train_data1_pd"
   ]
  },
  {
   "cell_type": "code",
   "execution_count": null,
   "metadata": {},
   "outputs": [],
   "source": [
    "train_data2_pd "
   ]
  },
  {
   "cell_type": "code",
   "execution_count": null,
   "metadata": {},
   "outputs": [],
   "source": [
    "def preproc_json(x):\n",
    "    x = x.replace(\"'\", '\"')\n",
    "    x = x.replace('Someone\"s', \"Someone's\")\n",
    "    x = json.loads(x)\n",
    "    return x\n",
    "\n",
    "train_data2_pd[\"labels\"] = train_data2_pd[\"labels\"].apply(lambda x: preproc_json(x))"
   ]
  },
  {
   "cell_type": "code",
   "execution_count": null,
   "metadata": {},
   "outputs": [],
   "source": [
    "train_pd = pd.concat([train_data1_pd, train_data2_pd], ignore_index=True)"
   ]
  },
  {
   "cell_type": "code",
   "execution_count": null,
   "metadata": {},
   "outputs": [],
   "source": [
    "train_pd"
   ]
  },
  {
   "cell_type": "code",
   "execution_count": null,
   "metadata": {},
   "outputs": [],
   "source": [
    "labels = [\n",
    "    \"Reductio ad hitlerum\",\n",
    "    \"Whataboutism\",\n",
    "    \"Presenting Irrelevant Data (Red Herring)\",\n",
    "    \"Doubt\",\n",
    "    \"Slogans\",\n",
    "    \"Appeal to fear/prejudice\",\n",
    "    \"Obfuscation, Intentional vagueness, Confusion\",\n",
    "    \"Misrepresentation of Someone's Position (Straw Man)\",\n",
    "    \"Glittering generalities (Virtue)\",\n",
    "    \"Appeal to authority\",\n",
    "    \"Repetition\",\n",
    "    \"Bandwagon\",\n",
    "    \"Causal Oversimplification\",\n",
    "    \"Name calling/Labeling\",\n",
    "    \"Thought-terminating cliché\",\n",
    "    \"Flag-waving\",\n",
    "    \"Exaggeration/Minimisation\",\n",
    "    \"Smears\",\n",
    "    \"Loaded Language\",\n",
    "    \"Black-and-white Fallacy/Dictatorship\"\n",
    "]"
   ]
  },
  {
   "cell_type": "code",
   "execution_count": null,
   "metadata": {},
   "outputs": [],
   "source": [
    "def separation_of_topics(data):\n",
    "    texts = []\n",
    "    prop_mask = []\n",
    "    techniques = []\n",
    "    for i in range(data.shape[0]):\n",
    "        text = data[\"text\"][i]\n",
    "        dict_prop = dict()\n",
    "        for label in data[\"labels\"][i]:\n",
    "            if label == '[':\n",
    "                print(data[\"labels\"][i], len(data[\"labels\"][i]))\n",
    "            technique = label[\"technique\"]\n",
    "            if technique not in dict_prop:\n",
    "                dict_prop[technique] = np.array([0] * len(text))\n",
    "            dict_prop[technique][label[\"start\"]:label[\"end\"]] = 1\n",
    "        #for technique in labels:\n",
    "        #    if technique not in dict_prop:\n",
    "        #        dict_prop[technique] = np.array([0] * len(text))\n",
    "        for key in dict_prop:\n",
    "            texts.append(text)\n",
    "            techniques.append(key)\n",
    "            prop_mask.append(dict_prop[key])\n",
    "    return texts, prop_mask, techniques"
   ]
  },
  {
   "cell_type": "code",
   "execution_count": null,
   "metadata": {},
   "outputs": [],
   "source": [
    "texts, prop_mask, techniques = separation_of_topics(train_pd)\n",
    "sep_train_pd = pd.DataFrame(np.array([texts, prop_mask, techniques], dtype=object).T,\n",
    "                            columns = [\"text\", \"prop_mask\", \"technique\"])"
   ]
  },
  {
   "cell_type": "code",
   "execution_count": null,
   "metadata": {},
   "outputs": [],
   "source": [
    "sep_train_pd.to_csv(\"data.csv\", index=False)"
   ]
  }
 ],
 "metadata": {
  "kernelspec": {
   "display_name": "Python 3",
   "language": "python",
   "name": "python3"
  },
  "language_info": {
   "codemirror_mode": {
    "name": "ipython",
    "version": 3
   },
   "file_extension": ".py",
   "mimetype": "text/x-python",
   "name": "python",
   "nbconvert_exporter": "python",
   "pygments_lexer": "ipython3",
   "version": "3.8.5"
  }
 },
 "nbformat": 4,
 "nbformat_minor": 4
}
