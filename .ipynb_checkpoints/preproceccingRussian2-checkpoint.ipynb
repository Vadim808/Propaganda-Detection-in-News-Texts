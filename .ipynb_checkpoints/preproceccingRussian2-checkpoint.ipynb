{
 "cells": [
  {
   "cell_type": "code",
   "execution_count": null,
   "metadata": {},
   "outputs": [],
   "source": [
    "import pandas as pd\n",
    "\n",
    "data_pd = pd.read_csv(\"data.csv\").sample(20)\n",
    "data_pd = data_pd.reset_index().drop(columns=[\"index\"])"
   ]
  },
  {
   "cell_type": "code",
   "execution_count": null,
   "metadata": {},
   "outputs": [],
   "source": [
    "def make_list(x):\n",
    "    x = x[1:-1].split()\n",
    "    x = list(map(int, x))\n",
    "    return x\n",
    "\n",
    "data_pd[\"prop_mask\"] = data_pd[\"prop_mask\"].apply(lambda x: make_list(x))"
   ]
  },
  {
   "cell_type": "code",
   "execution_count": null,
   "metadata": {},
   "outputs": [],
   "source": [
    "def preprocessing_translate(text, mask):\n",
    "    text_parts = []\n",
    "    text_part = \"\"\n",
    "    c_flag = mask[0]\n",
    "    parts_type = [c_flag] \n",
    "    for i, flag in enumerate(mask):\n",
    "        if c_flag == flag:\n",
    "            text_part += text[i]\n",
    "        else:\n",
    "            c_flag = flag\n",
    "            parts_type += [c_flag]\n",
    "            text_parts += [text_part]\n",
    "            text_part = text[i]\n",
    "    if text_part == \"\":\n",
    "        parts_type.pop(-1)\n",
    "    else:\n",
    "        text_parts += [text_part]\n",
    "    return text_parts, parts_type"
   ]
  },
  {
   "cell_type": "code",
   "execution_count": null,
   "metadata": {},
   "outputs": [],
   "source": [
    "import string\n",
    "import re\n",
    "\n",
    "def normalize_text(text):\n",
    "    text = text.lower()\n",
    "\n",
    "    # Remove punctuations\n",
    "    exclude = set(string.punctuation)\n",
    "    text = \"\".join(ch for ch in text if ch not in exclude)\n",
    "\n",
    "    # Remove articles\n",
    "    regex = re.compile(r\"\\b(a|an|the)\\b\", re.UNICODE)\n",
    "    text = re.sub(regex, \" \", text)\n",
    "\n",
    "    # Remove extra white space\n",
    "    text = \" \".join(text.split())\n",
    "    return text"
   ]
  },
  {
   "cell_type": "code",
   "execution_count": null,
   "metadata": {},
   "outputs": [],
   "source": [
    "from argostranslate import package, translate\n",
    "package.install_from_path('translate-en_ru-1_1.argosmodel')\n",
    "installed_languages = translate.get_installed_languages()\n",
    "translation_en_rus = installed_languages[0].get_translation(installed_languages[1])\n",
    "\n",
    "def preproccesing_connect(text_parts, parts_type, work_type=\"APItranslate\"):\n",
    "    prop_mask = []\n",
    "    text = []\n",
    "    for i, text_part in enumerate(text_parts):\n",
    "        text_part = normalize_text(text_part)\n",
    "        if work_type == \"manually\":\n",
    "            print(text_part, '!TEXT PART!')\n",
    "            rus_text = input()\n",
    "        else:\n",
    "            rus_text = translation_en_rus.translate(text_part)\n",
    "        text_len = len(rus_text)\n",
    "        part_type = parts_type[i]\n",
    "        if part_type == 1 or (part_type == 0 and len(text_parts) == 1):\n",
    "            prop_mask += [part_type] * text_len\n",
    "        elif i == 0 or i == len(text_parts) - 1:\n",
    "            prop_mask += [part_type] * (text_len + 1)\n",
    "        else:\n",
    "            prop_mask += [part_type] * (text_len + 2)\n",
    "        text += [rus_text]\n",
    "    return prop_mask, \" \".join(text)"
   ]
  },
  {
   "cell_type": "code",
   "execution_count": null,
   "metadata": {},
   "outputs": [],
   "source": [
    "from tqdm.notebook import trange, tqdm\n",
    "import numpy as np\n",
    "\n",
    "work_type = \"manually\"\n",
    "new_rus_texts = []\n",
    "new_prop_mask = []\n",
    "for i in range(data_pd.shape[0]):\n",
    "    texts, part_types = preprocessing_translate(data_pd[\"text\"][i], data_pd[\"prop_mask\"][i])\n",
    "    if work_type == \"manually\":\n",
    "        print(data_pd[\"text\"][i], \"!WHOLE TEXT!\")\n",
    "    prop_mask, text = preproccesing_connect(texts, part_types, \"manually\")\n",
    "    new_rus_texts += [text]\n",
    "    new_prop_mask += [prop_mask]\n",
    "\n",
    "techniques = data_pd[\"technique\"]\n",
    "new_data = pd.DataFrame(np.array([new_rus_texts, new_prop_mask, techniques], dtype=object).T,\n",
    "                        columns = [\"text\", \"prop_mask\", \"technique\"])"
   ]
  },
  {
   "cell_type": "code",
   "execution_count": null,
   "metadata": {},
   "outputs": [],
   "source": [
    "new_data"
   ]
  },
  {
   "cell_type": "code",
   "execution_count": null,
   "metadata": {},
   "outputs": [],
   "source": [
    "new_data.to_csv(\"rus_data2.csv\", index=False)"
   ]
  },
  {
   "cell_type": "code",
   "execution_count": null,
   "metadata": {},
   "outputs": [],
   "source": [
    "data1 = pd.read_csv(\"rus_data.csv\")"
   ]
  },
  {
   "cell_type": "code",
   "execution_count": null,
   "metadata": {},
   "outputs": [],
   "source": [
    "data_pd"
   ]
  },
  {
   "cell_type": "code",
   "execution_count": null,
   "metadata": {},
   "outputs": [],
   "source": [
    "data"
   ]
  }
 ],
 "metadata": {
  "kernelspec": {
   "display_name": "Python 3",
   "language": "python",
   "name": "python3"
  },
  "language_info": {
   "codemirror_mode": {
    "name": "ipython",
    "version": 3
   },
   "file_extension": ".py",
   "mimetype": "text/x-python",
   "name": "python",
   "nbconvert_exporter": "python",
   "pygments_lexer": "ipython3",
   "version": "3.8.5"
  }
 },
 "nbformat": 4,
 "nbformat_minor": 4
}
