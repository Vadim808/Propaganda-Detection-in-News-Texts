{
 "cells": [
  {
   "cell_type": "markdown",
   "metadata": {
    "id": "wlDMgYm4lzvd"
   },
   "source": [
    "(https://keras.io/examples/nlp/text_extraction_with_bert/) "
   ]
  },
  {
   "cell_type": "code",
   "execution_count": null,
   "metadata": {
    "colab": {
     "base_uri": "https://localhost:8080/"
    },
    "id": "nl2fRygIlzvi",
    "outputId": "c195a9d2-9d66-4fee-ec98-28e95655b5f1"
   },
   "outputs": [],
   "source": [
    "import matplotlib.pyplot as plt\n",
    "import os\n",
    "import re\n",
    "import string\n",
    "import numpy as np\n",
    "import pandas as pd\n",
    "import tensorflow as tf\n",
    "import transformers\n",
    "from tensorflow import keras\n",
    "from tensorflow.keras import layers\n",
    "from transformers import BertTokenizer, TFBertModel, BertConfig, BertTokenizerFast \n",
    "print(tf.__version__)\n",
    "\n",
    "from learning_checks import hist_graph\n",
    "from learning_checks import text_check\n",
    "from learning_checks import check_metrics"
   ]
  },
  {
   "cell_type": "code",
   "execution_count": null,
   "metadata": {
    "id": "v53lw-ErpMEr"
   },
   "outputs": [],
   "source": [
    "labels = [\n",
    "\"Reductio ad hitlerum\",\n",
    "\"Whataboutism\",\n",
    "\"Presenting Irrelevant Data (Red Herring)\",\n",
    "\"Doubt\",\n",
    "\"Slogans\",\n",
    "\"Appeal to fear/prejudice\",\n",
    "\"Obfuscation, Intentional vagueness, Confusion\",\n",
    "\"Misrepresentation of Someone's Position (Straw Man)\",\n",
    "\"Glittering generalities (Virtue)\",\n",
    "\"Appeal to authority\",\n",
    "\"Repetition\",\n",
    "\"Bandwagon\",\n",
    "\"Causal Oversimplification\",\n",
    "\"Name calling/Labeling\",\n",
    "\"Thought-terminating cliché\",\n",
    "\"Flag-waving\",\n",
    "\"Exaggeration/Minimisation\",\n",
    "\"Smears\",\n",
    "\"Loaded Language\",\n",
    "\"Black-and-white Fallacy/Dictatorship\"\n",
    "]"
   ]
  },
  {
   "cell_type": "code",
   "execution_count": null,
   "metadata": {
    "colab": {
     "base_uri": "https://localhost:8080/",
     "height": 406
    },
    "id": "97sQkMTNpMEt",
    "outputId": "ccc783ab-29a8-41ce-dac2-1c0a28665ada"
   },
   "outputs": [],
   "source": [
    "data_pd = pd.read_csv(\"data.csv\").sample(20)\n",
    "data_pd = data_pd.reset_index().drop(columns=[\"index\"])"
   ]
  },
  {
   "cell_type": "code",
   "execution_count": null,
   "metadata": {},
   "outputs": [],
   "source": [
    "from googletrans import Translator\n",
    "\n",
    "data_pd"
   ]
  },
  {
   "cell_type": "code",
   "execution_count": null,
   "metadata": {},
   "outputs": [],
   "source": [
    "def make_list(x):\n",
    "    x = x[1:-1].split(\", \")\n",
    "    x = list(map(int, x))\n",
    "    return x\n",
    "\n",
    "data_pd[\"prop_mask\"] = data_pd[\"prop_mask\"].apply(lambda x: make_list(x))"
   ]
  },
  {
   "cell_type": "code",
   "execution_count": null,
   "metadata": {
    "colab": {
     "base_uri": "https://localhost:8080/",
     "height": 116,
     "referenced_widgets": [
      "f21694c44af3473db1a03a8872efc7ba",
      "f389e887e8dd43c5a93cb9bd172d1913",
      "2928d886b29c4dc5a21b85ecec70905f",
      "c40f2241970e48d5814282f1d78c4396",
      "fbad4c6f245449b781423089b70475a7",
      "169d5450fc7c4bfdb88d76fd0c942852",
      "6353f804a8304e68a638f6db27c8ebd7",
      "f8e0bd9d3ffe45dfb6d2c7765ea7500b",
      "9b1778789915413091dc2aedbf078adb",
      "55c039342f0d4a9da3f72867dafdf952",
      "ab7f40ac574346e5aff9d0fd65c7e197",
      "02bf06ed8c8b4c049c96e990e9fd837d",
      "5eb8475df57047c8b24401e038a12d7b",
      "6f6807a0e1fb4ca8a183e59d80138265",
      "47db5fbd04684483af9f2a237d492311",
      "45801f788fe24845be510e49fde1e2df"
     ]
    },
    "id": "jNgxuUNFpMEu",
    "outputId": "fa489f5a-2468-42e2-caa6-b5b929f38f81"
   },
   "outputs": [],
   "source": [
    "from transformers import AutoTokenizer, AutoModel\n",
    "\n",
    "tokenizer = AutoTokenizer.from_pretrained(\"SpanBERT/spanbert-base-cased\")"
   ]
  },
  {
   "cell_type": "code",
   "execution_count": null,
   "metadata": {
    "id": "q3DUO1DTpMEu"
   },
   "outputs": [],
   "source": [
    "def preprocessing(data, max_len=250):\n",
    "    col_input_ids = []\n",
    "    col_attention_mask = []\n",
    "    col_token_type_ids = []\n",
    "    col_token_prop_mask = []\n",
    "    \n",
    "    for i in range(data.shape[0]):\n",
    "        token_text = tokenizer.encode_plus(\n",
    "            data[\"text\"][i], \n",
    "            return_offsets_mapping=True,\n",
    "            max_length=max_len,\n",
    "            truncation=True\n",
    "        )\n",
    "        \n",
    "        token_count = len(token_text.input_ids)\n",
    "        token_prop_mask = [0] * max_len\n",
    "        for j, (ind_s, ind_e) in enumerate(token_text.offset_mapping):\n",
    "            if sum(data[\"prop_mask\"][i][ind_s:ind_e]) > 0:\n",
    "                #print(data[\"text\"][i][ind_s:ind_e], 109)\n",
    "                token_prop_mask[j] = 1\n",
    "            \n",
    "        col_token_prop_mask.append(token_prop_mask) \n",
    "\n",
    "        token_technique = tokenizer.encode_plus(\n",
    "            data[\"technique\"][i], \n",
    "            return_offsets_mapping=True, \n",
    "            max_length=max_len, \n",
    "            truncation=True\n",
    "        )\n",
    "\n",
    "        input_ids = token_text.input_ids + token_technique.input_ids[1:]\n",
    "        token_type_ids = [0] * token_count + [1] * len(token_technique.input_ids[1:])\n",
    "        len_input_ids = len(input_ids)\n",
    "        attention_mask = [1] * len_input_ids\n",
    "\n",
    "        assert max_len > len_input_ids, f\"max_len {max_len} <= len_input_ids {len_input_ids}\"\n",
    "        \n",
    "        padding = [0] * (max_len - len_input_ids)\n",
    "        col_input_ids.append(input_ids + padding)\n",
    "        col_attention_mask.append(attention_mask + padding)\n",
    "        col_token_type_ids.append(token_type_ids + padding)\n",
    "\n",
    "        #if sum(token_prop_mask) > 0:\n",
    "        #    print(data[\"technique\"][i])\n",
    "        #    print(data[\"text\"][i])\n",
    "        #    inp_ids = np.array(input_ids + padding)\n",
    "        #    mask_ids = np.array(token_prop_mask)\n",
    "        #    np_text = np.array(list(data[\"text\"][i]))\n",
    "        #    np_prop = np.array(data[\"prop_mask\"][i])\n",
    "        #    my_tok = inp_ids[mask_ids == 1] \n",
    "        #    prop_mask = data[\"prop_mask\"][i]\n",
    "        #    print(\"|\", \"\".join(np_text[np_prop == 1]), \"|\")\n",
    "        #    print(tokenizer.decode(my_tok))\n",
    "        #    return%\n",
    "        \n",
    "    return col_input_ids, col_attention_mask, col_token_type_ids, col_token_prop_mask"
   ]
  },
  {
   "cell_type": "code",
   "execution_count": null,
   "metadata": {
    "id": "a6W-rHObpMEv"
   },
   "outputs": [],
   "source": [
    "col_input_ids, col_attention_mask, col_token_type_ids, col_token_prop_mask = preprocessing(data_pd)\n",
    "data_pd[\"col_input_ids\"] = col_input_ids\n",
    "data_pd[\"col_attention_mask\"] = col_attention_mask\n",
    "data_pd[\"col_token_type_ids\"] = col_token_type_ids\n",
    "data_pd[\"col_token_prop_mask\"] = col_token_prop_mask"
   ]
  },
  {
   "cell_type": "code",
   "execution_count": null,
   "metadata": {
    "colab": {
     "base_uri": "https://localhost:8080/",
     "height": 926
    },
    "id": "CHI99lu0lh48",
    "outputId": "a779a041-dfe7-425c-93ca-52a3d26ddd7a"
   },
   "outputs": [],
   "source": [
    "data_pd"
   ]
  },
  {
   "cell_type": "code",
   "execution_count": null,
   "metadata": {
    "colab": {
     "base_uri": "https://localhost:8080/"
    },
    "id": "DJzrCSPssmA3",
    "outputId": "6d12de0a-e783-42a4-efdd-ba4a3c43510b"
   },
   "outputs": [],
   "source": [
    "FRACTION = 0.1\n",
    "data_num = int(data_pd.shape[0] * FRACTION)\n",
    "\n",
    "data_pd = data_pd.sample(frac=1).reset_index(drop=True)\n",
    "sep_dev_pd = data_pd.iloc[:data_num,:]\n",
    "sep_train_pd = data_pd.iloc[data_num:,:].reset_index(drop=True)"
   ]
  },
  {
   "cell_type": "code",
   "execution_count": null,
   "metadata": {
    "colab": {
     "base_uri": "https://localhost:8080/",
     "height": 926
    },
    "id": "C6pY6bfepMEw",
    "outputId": "c06c784f-1a44-440b-b15e-149c3658ba6a"
   },
   "outputs": [],
   "source": [
    "sep_dev_pd"
   ]
  },
  {
   "cell_type": "code",
   "execution_count": null,
   "metadata": {
    "id": "6J9liVnFlzvs"
   },
   "outputs": [],
   "source": [
    "import torch.nn as nn\n",
    "\n",
    "class Model(transformers.BertPreTrainedModel):\n",
    "    def __init__(self, config, PATH):\n",
    "        super(Model, self).__init__(config)\n",
    "        self.bert = transformers.BertModel.from_pretrained(PATH)\n",
    "        self.linear = nn.Linear(1024, 1)\n",
    "        self.flatten = nn.Flatten()\n",
    "        self.sigm = nn.Sigmoid()\n",
    "    \n",
    "    def forward(self, ids, mask, token_type_ids):\n",
    "        embedding = self.bert(\n",
    "            ids,\n",
    "            attention_mask=mask,\n",
    "            token_type_ids=token_type_ids\n",
    "        )[0]\n",
    "        logits = self.linear(embedding)\n",
    "        logits = self.flatten(logits)\n",
    "        result = self.sigm(logits)\n",
    "        return result"
   ]
  },
  {
   "cell_type": "code",
   "execution_count": null,
   "metadata": {},
   "outputs": [],
   "source": [
    "PATH = 'tune_model/rubert_cased_L-12_H-768_A-12_v2.tar.gz'\n",
    "\n",
    "bert = transformers.BertModel.from_pretrained(PATH)"
   ]
  },
  {
   "cell_type": "code",
   "execution_count": null,
   "metadata": {
    "id": "80PozV5KpMEx",
    "scrolled": true
   },
   "outputs": [],
   "source": [
    "#PATH = 'tune_model/squad2'\n",
    "\n",
    "#bert = transformers.BertModel.from_pretrained(PATH)\n",
    "#my_model = Model(bert.config, PATH)"
   ]
  },
  {
   "cell_type": "code",
   "execution_count": null,
   "metadata": {
    "id": "qZ0Xr8kUpMEx"
   },
   "outputs": [],
   "source": [
    "import torch.nn as nn\n",
    "import torch.nn.functional as F\n",
    "import torch.optim as optim\n",
    "\n",
    "optimizer = optim.SGD(my_model.parameters(), lr=1e-2)\n",
    "criterion = nn.BCELoss()"
   ]
  },
  {
   "cell_type": "code",
   "execution_count": null,
   "metadata": {
    "colab": {
     "base_uri": "https://localhost:8080/",
     "height": 35
    },
    "id": "0Ap5F7ZCqvV1",
    "outputId": "03c29c66-a415-44c4-985a-9319c01b7d07"
   },
   "outputs": [],
   "source": [
    "import torch\n",
    "\n",
    "if torch.cuda.is_available():  \n",
    "  dev = \"cuda:0\" \n",
    "else:  \n",
    "  dev = \"cpu\" \n",
    "\n",
    "dev"
   ]
  },
  {
   "cell_type": "code",
   "execution_count": null,
   "metadata": {
    "colab": {
     "base_uri": "https://localhost:8080/"
    },
    "id": "FbXb-N_Yq9yP",
    "outputId": "b28ea17b-0b81-45ce-e5b1-893ff5dee914"
   },
   "outputs": [],
   "source": [
    "my_model.to(dev)"
   ]
  },
  {
   "cell_type": "code",
   "execution_count": null,
   "metadata": {},
   "outputs": [],
   "source": [
    "sep_dev_pd"
   ]
  },
  {
   "cell_type": "code",
   "execution_count": null,
   "metadata": {
    "colab": {
     "base_uri": "https://localhost:8080/",
     "height": 700
    },
    "id": "GTm9IklVnejX",
    "outputId": "811ef70f-7fd1-44ea-ac4c-bd0d9010b6e1"
   },
   "outputs": [],
   "source": [
    "i = 0\n",
    "text_check(my_model, i, 0.5, sep_dev_pd, tokenizer)"
   ]
  },
  {
   "cell_type": "code",
   "execution_count": null,
   "metadata": {
    "colab": {
     "base_uri": "https://localhost:8080/"
    },
    "id": "FPxrVF-ZpMEy",
    "outputId": "c12f237b-e901-4421-ed46-e3f753986a07"
   },
   "outputs": [],
   "source": [
    "from tqdm.notebook import trange, tqdm\n",
    "\n",
    "EPOCHS = 4\n",
    "batch_size = 5\n",
    "dev_batch_size = 10\n",
    "N = len(sep_train_pd)\n",
    "M = len(sep_dev_pd)\n",
    "data = sep_train_pd.values\n",
    "\n",
    "precision = []\n",
    "recall = []\n",
    "accuracy = []\n",
    "F = []\n",
    "\n",
    "for epoch in range(EPOCHS):\n",
    "    \n",
    "    my_model.train()\n",
    "    train_loss = 0\n",
    "    for i in tqdm(range(0, N, batch_size), leave=False):\n",
    "        start = i\n",
    "        end = i + batch_size if i + batch_size < N else N\n",
    "        ids = torch.tensor(list(sep_train_pd[\"col_input_ids\"][start:end])).to(dev)\n",
    "        attention_mask = torch.tensor(list(sep_train_pd[\"col_attention_mask\"][start:end])).to(dev)\n",
    "        type_ids = torch.tensor(list(sep_train_pd[\"col_token_type_ids\"][start:end])).to(dev)\n",
    "        target = torch.tensor(list(sep_train_pd[\"col_token_prop_mask\"][start:end]), dtype=torch.float).to(dev)\n",
    "        \n",
    "        optimizer.zero_grad()\n",
    "        output = my_model(ids, attention_mask, type_ids)\n",
    "        output = torch.squeeze(output, dim=1)\n",
    "        loss = criterion(output, target * 0.99)\n",
    "        train_loss += loss\n",
    "        loss.backward()\n",
    "        optimizer.step()\n",
    "        \n",
    "    dev_loss = 0\n",
    "    my_model.eval()\n",
    "    with torch.no_grad():\n",
    "        for i in range(0, M, dev_batch_size):\n",
    "            start = i\n",
    "            end = i + dev_batch_size if i + dev_batch_size < M else M\n",
    "            ids = torch.tensor(list(sep_dev_pd[\"col_input_ids\"][start:end])).to(dev)\n",
    "            attention_mask = torch.tensor(list(sep_dev_pd[\"col_attention_mask\"][start:end])).to(dev)\n",
    "            type_ids = torch.tensor(list(sep_dev_pd[\"col_token_type_ids\"][start:end])).to(dev)\n",
    "            target = torch.tensor(list(sep_dev_pd[\"col_token_prop_mask\"][start:end]), dtype=torch.float).to(dev)\n",
    "            \n",
    "            output = my_model(ids, attention_mask, type_ids)\n",
    "            output = torch.squeeze(output, dim=1)\n",
    "            loss = criterion(output, target * 0.99)\n",
    "            dev_loss += loss\n",
    "        print(f\"\\nepoch {epoch}: \\ntrain_loss = {train_loss}, \\ndev_loss = {dev_loss}\")\n",
    "    check_metrics(my_model, sep_dev_pd, 0.5)"
   ]
  },
  {
   "cell_type": "code",
   "execution_count": null,
   "metadata": {
    "colab": {
     "base_uri": "https://localhost:8080/"
    },
    "id": "Sk1domLiNFLR",
    "outputId": "5859f3f6-5e68-4cb3-f728-ea6f7434b816"
   },
   "outputs": [],
   "source": [
    "check_metrics(my_model, sep_dev_pd)"
   ]
  },
  {
   "cell_type": "code",
   "execution_count": null,
   "metadata": {
    "id": "GfKKOr6kqphh"
   },
   "outputs": [],
   "source": [
    "torch.save(my_model.state_dict(), \"models/model.pth\")"
   ]
  }
 ],
 "metadata": {
  "colab": {
   "collapsed_sections": [],
   "name": "diplom.ipynb",
   "provenance": []
  },
  "kernelspec": {
   "display_name": "Python 3",
   "language": "python",
   "name": "python3"
  },
  "language_info": {
   "codemirror_mode": {
    "name": "ipython",
    "version": 3
   },
   "file_extension": ".py",
   "mimetype": "text/x-python",
   "name": "python",
   "nbconvert_exporter": "python",
   "pygments_lexer": "ipython3",
   "version": "3.8.5"
  },
  "widgets": {
   "application/vnd.jupyter.widget-state+json": {
    "02bf06ed8c8b4c049c96e990e9fd837d": {
     "model_module": "@jupyter-widgets/controls",
     "model_name": "HTMLModel",
     "state": {
      "_dom_classes": [],
      "_model_module": "@jupyter-widgets/controls",
      "_model_module_version": "1.5.0",
      "_model_name": "HTMLModel",
      "_view_count": null,
      "_view_module": "@jupyter-widgets/controls",
      "_view_module_version": "1.5.0",
      "_view_name": "HTMLView",
      "description": "",
      "description_tooltip": null,
      "layout": "IPY_MODEL_45801f788fe24845be510e49fde1e2df",
      "placeholder": "​",
      "style": "IPY_MODEL_47db5fbd04684483af9f2a237d492311",
      "value": " 213k/213k [00:01&lt;00:00, 194kB/s]"
     }
    },
    "169d5450fc7c4bfdb88d76fd0c942852": {
     "model_module": "@jupyter-widgets/base",
     "model_name": "LayoutModel",
     "state": {
      "_model_module": "@jupyter-widgets/base",
      "_model_module_version": "1.2.0",
      "_model_name": "LayoutModel",
      "_view_count": null,
      "_view_module": "@jupyter-widgets/base",
      "_view_module_version": "1.2.0",
      "_view_name": "LayoutView",
      "align_content": null,
      "align_items": null,
      "align_self": null,
      "border": null,
      "bottom": null,
      "display": null,
      "flex": null,
      "flex_flow": null,
      "grid_area": null,
      "grid_auto_columns": null,
      "grid_auto_flow": null,
      "grid_auto_rows": null,
      "grid_column": null,
      "grid_gap": null,
      "grid_row": null,
      "grid_template_areas": null,
      "grid_template_columns": null,
      "grid_template_rows": null,
      "height": null,
      "justify_content": null,
      "justify_items": null,
      "left": null,
      "margin": null,
      "max_height": null,
      "max_width": null,
      "min_height": null,
      "min_width": null,
      "object_fit": null,
      "object_position": null,
      "order": null,
      "overflow": null,
      "overflow_x": null,
      "overflow_y": null,
      "padding": null,
      "right": null,
      "top": null,
      "visibility": null,
      "width": null
     }
    },
    "2928d886b29c4dc5a21b85ecec70905f": {
     "model_module": "@jupyter-widgets/controls",
     "model_name": "FloatProgressModel",
     "state": {
      "_dom_classes": [],
      "_model_module": "@jupyter-widgets/controls",
      "_model_module_version": "1.5.0",
      "_model_name": "FloatProgressModel",
      "_view_count": null,
      "_view_module": "@jupyter-widgets/controls",
      "_view_module_version": "1.5.0",
      "_view_name": "ProgressView",
      "bar_style": "success",
      "description": "Downloading: 100%",
      "description_tooltip": null,
      "layout": "IPY_MODEL_169d5450fc7c4bfdb88d76fd0c942852",
      "max": 413,
      "min": 0,
      "orientation": "horizontal",
      "style": "IPY_MODEL_fbad4c6f245449b781423089b70475a7",
      "value": 413
     }
    },
    "45801f788fe24845be510e49fde1e2df": {
     "model_module": "@jupyter-widgets/base",
     "model_name": "LayoutModel",
     "state": {
      "_model_module": "@jupyter-widgets/base",
      "_model_module_version": "1.2.0",
      "_model_name": "LayoutModel",
      "_view_count": null,
      "_view_module": "@jupyter-widgets/base",
      "_view_module_version": "1.2.0",
      "_view_name": "LayoutView",
      "align_content": null,
      "align_items": null,
      "align_self": null,
      "border": null,
      "bottom": null,
      "display": null,
      "flex": null,
      "flex_flow": null,
      "grid_area": null,
      "grid_auto_columns": null,
      "grid_auto_flow": null,
      "grid_auto_rows": null,
      "grid_column": null,
      "grid_gap": null,
      "grid_row": null,
      "grid_template_areas": null,
      "grid_template_columns": null,
      "grid_template_rows": null,
      "height": null,
      "justify_content": null,
      "justify_items": null,
      "left": null,
      "margin": null,
      "max_height": null,
      "max_width": null,
      "min_height": null,
      "min_width": null,
      "object_fit": null,
      "object_position": null,
      "order": null,
      "overflow": null,
      "overflow_x": null,
      "overflow_y": null,
      "padding": null,
      "right": null,
      "top": null,
      "visibility": null,
      "width": null
     }
    },
    "47db5fbd04684483af9f2a237d492311": {
     "model_module": "@jupyter-widgets/controls",
     "model_name": "DescriptionStyleModel",
     "state": {
      "_model_module": "@jupyter-widgets/controls",
      "_model_module_version": "1.5.0",
      "_model_name": "DescriptionStyleModel",
      "_view_count": null,
      "_view_module": "@jupyter-widgets/base",
      "_view_module_version": "1.2.0",
      "_view_name": "StyleView",
      "description_width": ""
     }
    },
    "55c039342f0d4a9da3f72867dafdf952": {
     "model_module": "@jupyter-widgets/base",
     "model_name": "LayoutModel",
     "state": {
      "_model_module": "@jupyter-widgets/base",
      "_model_module_version": "1.2.0",
      "_model_name": "LayoutModel",
      "_view_count": null,
      "_view_module": "@jupyter-widgets/base",
      "_view_module_version": "1.2.0",
      "_view_name": "LayoutView",
      "align_content": null,
      "align_items": null,
      "align_self": null,
      "border": null,
      "bottom": null,
      "display": null,
      "flex": null,
      "flex_flow": null,
      "grid_area": null,
      "grid_auto_columns": null,
      "grid_auto_flow": null,
      "grid_auto_rows": null,
      "grid_column": null,
      "grid_gap": null,
      "grid_row": null,
      "grid_template_areas": null,
      "grid_template_columns": null,
      "grid_template_rows": null,
      "height": null,
      "justify_content": null,
      "justify_items": null,
      "left": null,
      "margin": null,
      "max_height": null,
      "max_width": null,
      "min_height": null,
      "min_width": null,
      "object_fit": null,
      "object_position": null,
      "order": null,
      "overflow": null,
      "overflow_x": null,
      "overflow_y": null,
      "padding": null,
      "right": null,
      "top": null,
      "visibility": null,
      "width": null
     }
    },
    "5eb8475df57047c8b24401e038a12d7b": {
     "model_module": "@jupyter-widgets/controls",
     "model_name": "ProgressStyleModel",
     "state": {
      "_model_module": "@jupyter-widgets/controls",
      "_model_module_version": "1.5.0",
      "_model_name": "ProgressStyleModel",
      "_view_count": null,
      "_view_module": "@jupyter-widgets/base",
      "_view_module_version": "1.2.0",
      "_view_name": "StyleView",
      "bar_color": null,
      "description_width": "initial"
     }
    },
    "6353f804a8304e68a638f6db27c8ebd7": {
     "model_module": "@jupyter-widgets/controls",
     "model_name": "DescriptionStyleModel",
     "state": {
      "_model_module": "@jupyter-widgets/controls",
      "_model_module_version": "1.5.0",
      "_model_name": "DescriptionStyleModel",
      "_view_count": null,
      "_view_module": "@jupyter-widgets/base",
      "_view_module_version": "1.2.0",
      "_view_name": "StyleView",
      "description_width": ""
     }
    },
    "6f6807a0e1fb4ca8a183e59d80138265": {
     "model_module": "@jupyter-widgets/base",
     "model_name": "LayoutModel",
     "state": {
      "_model_module": "@jupyter-widgets/base",
      "_model_module_version": "1.2.0",
      "_model_name": "LayoutModel",
      "_view_count": null,
      "_view_module": "@jupyter-widgets/base",
      "_view_module_version": "1.2.0",
      "_view_name": "LayoutView",
      "align_content": null,
      "align_items": null,
      "align_self": null,
      "border": null,
      "bottom": null,
      "display": null,
      "flex": null,
      "flex_flow": null,
      "grid_area": null,
      "grid_auto_columns": null,
      "grid_auto_flow": null,
      "grid_auto_rows": null,
      "grid_column": null,
      "grid_gap": null,
      "grid_row": null,
      "grid_template_areas": null,
      "grid_template_columns": null,
      "grid_template_rows": null,
      "height": null,
      "justify_content": null,
      "justify_items": null,
      "left": null,
      "margin": null,
      "max_height": null,
      "max_width": null,
      "min_height": null,
      "min_width": null,
      "object_fit": null,
      "object_position": null,
      "order": null,
      "overflow": null,
      "overflow_x": null,
      "overflow_y": null,
      "padding": null,
      "right": null,
      "top": null,
      "visibility": null,
      "width": null
     }
    },
    "9b1778789915413091dc2aedbf078adb": {
     "model_module": "@jupyter-widgets/controls",
     "model_name": "HBoxModel",
     "state": {
      "_dom_classes": [],
      "_model_module": "@jupyter-widgets/controls",
      "_model_module_version": "1.5.0",
      "_model_name": "HBoxModel",
      "_view_count": null,
      "_view_module": "@jupyter-widgets/controls",
      "_view_module_version": "1.5.0",
      "_view_name": "HBoxView",
      "box_style": "",
      "children": [
       "IPY_MODEL_ab7f40ac574346e5aff9d0fd65c7e197",
       "IPY_MODEL_02bf06ed8c8b4c049c96e990e9fd837d"
      ],
      "layout": "IPY_MODEL_55c039342f0d4a9da3f72867dafdf952"
     }
    },
    "ab7f40ac574346e5aff9d0fd65c7e197": {
     "model_module": "@jupyter-widgets/controls",
     "model_name": "FloatProgressModel",
     "state": {
      "_dom_classes": [],
      "_model_module": "@jupyter-widgets/controls",
      "_model_module_version": "1.5.0",
      "_model_name": "FloatProgressModel",
      "_view_count": null,
      "_view_module": "@jupyter-widgets/controls",
      "_view_module_version": "1.5.0",
      "_view_name": "ProgressView",
      "bar_style": "success",
      "description": "Downloading: 100%",
      "description_tooltip": null,
      "layout": "IPY_MODEL_6f6807a0e1fb4ca8a183e59d80138265",
      "max": 213450,
      "min": 0,
      "orientation": "horizontal",
      "style": "IPY_MODEL_5eb8475df57047c8b24401e038a12d7b",
      "value": 213450
     }
    },
    "c40f2241970e48d5814282f1d78c4396": {
     "model_module": "@jupyter-widgets/controls",
     "model_name": "HTMLModel",
     "state": {
      "_dom_classes": [],
      "_model_module": "@jupyter-widgets/controls",
      "_model_module_version": "1.5.0",
      "_model_name": "HTMLModel",
      "_view_count": null,
      "_view_module": "@jupyter-widgets/controls",
      "_view_module_version": "1.5.0",
      "_view_name": "HTMLView",
      "description": "",
      "description_tooltip": null,
      "layout": "IPY_MODEL_f8e0bd9d3ffe45dfb6d2c7765ea7500b",
      "placeholder": "​",
      "style": "IPY_MODEL_6353f804a8304e68a638f6db27c8ebd7",
      "value": " 413/413 [00:01&lt;00:00, 263B/s]"
     }
    },
    "f21694c44af3473db1a03a8872efc7ba": {
     "model_module": "@jupyter-widgets/controls",
     "model_name": "HBoxModel",
     "state": {
      "_dom_classes": [],
      "_model_module": "@jupyter-widgets/controls",
      "_model_module_version": "1.5.0",
      "_model_name": "HBoxModel",
      "_view_count": null,
      "_view_module": "@jupyter-widgets/controls",
      "_view_module_version": "1.5.0",
      "_view_name": "HBoxView",
      "box_style": "",
      "children": [
       "IPY_MODEL_2928d886b29c4dc5a21b85ecec70905f",
       "IPY_MODEL_c40f2241970e48d5814282f1d78c4396"
      ],
      "layout": "IPY_MODEL_f389e887e8dd43c5a93cb9bd172d1913"
     }
    },
    "f389e887e8dd43c5a93cb9bd172d1913": {
     "model_module": "@jupyter-widgets/base",
     "model_name": "LayoutModel",
     "state": {
      "_model_module": "@jupyter-widgets/base",
      "_model_module_version": "1.2.0",
      "_model_name": "LayoutModel",
      "_view_count": null,
      "_view_module": "@jupyter-widgets/base",
      "_view_module_version": "1.2.0",
      "_view_name": "LayoutView",
      "align_content": null,
      "align_items": null,
      "align_self": null,
      "border": null,
      "bottom": null,
      "display": null,
      "flex": null,
      "flex_flow": null,
      "grid_area": null,
      "grid_auto_columns": null,
      "grid_auto_flow": null,
      "grid_auto_rows": null,
      "grid_column": null,
      "grid_gap": null,
      "grid_row": null,
      "grid_template_areas": null,
      "grid_template_columns": null,
      "grid_template_rows": null,
      "height": null,
      "justify_content": null,
      "justify_items": null,
      "left": null,
      "margin": null,
      "max_height": null,
      "max_width": null,
      "min_height": null,
      "min_width": null,
      "object_fit": null,
      "object_position": null,
      "order": null,
      "overflow": null,
      "overflow_x": null,
      "overflow_y": null,
      "padding": null,
      "right": null,
      "top": null,
      "visibility": null,
      "width": null
     }
    },
    "f8e0bd9d3ffe45dfb6d2c7765ea7500b": {
     "model_module": "@jupyter-widgets/base",
     "model_name": "LayoutModel",
     "state": {
      "_model_module": "@jupyter-widgets/base",
      "_model_module_version": "1.2.0",
      "_model_name": "LayoutModel",
      "_view_count": null,
      "_view_module": "@jupyter-widgets/base",
      "_view_module_version": "1.2.0",
      "_view_name": "LayoutView",
      "align_content": null,
      "align_items": null,
      "align_self": null,
      "border": null,
      "bottom": null,
      "display": null,
      "flex": null,
      "flex_flow": null,
      "grid_area": null,
      "grid_auto_columns": null,
      "grid_auto_flow": null,
      "grid_auto_rows": null,
      "grid_column": null,
      "grid_gap": null,
      "grid_row": null,
      "grid_template_areas": null,
      "grid_template_columns": null,
      "grid_template_rows": null,
      "height": null,
      "justify_content": null,
      "justify_items": null,
      "left": null,
      "margin": null,
      "max_height": null,
      "max_width": null,
      "min_height": null,
      "min_width": null,
      "object_fit": null,
      "object_position": null,
      "order": null,
      "overflow": null,
      "overflow_x": null,
      "overflow_y": null,
      "padding": null,
      "right": null,
      "top": null,
      "visibility": null,
      "width": null
     }
    },
    "fbad4c6f245449b781423089b70475a7": {
     "model_module": "@jupyter-widgets/controls",
     "model_name": "ProgressStyleModel",
     "state": {
      "_model_module": "@jupyter-widgets/controls",
      "_model_module_version": "1.5.0",
      "_model_name": "ProgressStyleModel",
      "_view_count": null,
      "_view_module": "@jupyter-widgets/base",
      "_view_module_version": "1.2.0",
      "_view_name": "StyleView",
      "bar_color": null,
      "description_width": "initial"
     }
    }
   }
  }
 },
 "nbformat": 4,
 "nbformat_minor": 1
}
