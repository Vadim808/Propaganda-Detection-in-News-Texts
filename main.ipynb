{
 "cells": [
  {
   "cell_type": "markdown",
   "metadata": {
    "id": "wlDMgYm4lzvd"
   },
   "source": [
    "(https://keras.io/examples/nlp/text_extraction_with_bert/) "
   ]
  },
  {
   "cell_type": "code",
   "execution_count": 45,
   "metadata": {
    "colab": {
     "base_uri": "https://localhost:8080/"
    },
    "id": "nl2fRygIlzvi",
    "outputId": "c195a9d2-9d66-4fee-ec98-28e95655b5f1"
   },
   "outputs": [
    {
     "name": "stdout",
     "output_type": "stream",
     "text": [
      "2.4.1\n"
     ]
    }
   ],
   "source": [
    "import matplotlib.pyplot as plt\n",
    "import os\n",
    "import re\n",
    "import string\n",
    "import numpy as np\n",
    "import pandas as pd\n",
    "import tensorflow as tf\n",
    "import transformers\n",
    "from tensorflow import keras\n",
    "from tensorflow.keras import layers\n",
    "from transformers import BertTokenizer, TFBertModel, BertConfig, BertTokenizerFast \n",
    "print(tf.__version__)"
   ]
  },
  {
   "cell_type": "code",
   "execution_count": 46,
   "metadata": {
    "id": "v53lw-ErpMEr"
   },
   "outputs": [],
   "source": [
    "labels = [\n",
    "\"Reductio ad hitlerum\",\n",
    "\"Whataboutism\",\n",
    "\"Presenting Irrelevant Data (Red Herring)\",\n",
    "\"Doubt\",\n",
    "\"Slogans\",\n",
    "\"Appeal to fear/prejudice\",\n",
    "\"Obfuscation, Intentional vagueness, Confusion\",\n",
    "\"Misrepresentation of Someone's Position (Straw Man)\",\n",
    "\"Glittering generalities (Virtue)\",\n",
    "\"Appeal to authority\",\n",
    "\"Repetition\",\n",
    "\"Bandwagon\",\n",
    "\"Causal Oversimplification\",\n",
    "\"Name calling/Labeling\",\n",
    "\"Thought-terminating cliché\",\n",
    "\"Flag-waving\",\n",
    "\"Exaggeration/Minimisation\",\n",
    "\"Smears\",\n",
    "\"Loaded Language\",\n",
    "\"Black-and-white Fallacy/Dictatorship\"\n",
    "]"
   ]
  },
  {
   "cell_type": "code",
   "execution_count": 47,
   "metadata": {
    "colab": {
     "base_uri": "https://localhost:8080/",
     "height": 406
    },
    "id": "97sQkMTNpMEt",
    "outputId": "ccc783ab-29a8-41ce-dac2-1c0a28665ada"
   },
   "outputs": [],
   "source": [
    "sep_train_pd = pd.read_csv(\"data.csv\")"
   ]
  },
  {
   "cell_type": "code",
   "execution_count": 49,
   "metadata": {},
   "outputs": [
    {
     "data": {
      "text/html": [
       "<div>\n",
       "<style scoped>\n",
       "    .dataframe tbody tr th:only-of-type {\n",
       "        vertical-align: middle;\n",
       "    }\n",
       "\n",
       "    .dataframe tbody tr th {\n",
       "        vertical-align: top;\n",
       "    }\n",
       "\n",
       "    .dataframe thead th {\n",
       "        text-align: right;\n",
       "    }\n",
       "</style>\n",
       "<table border=\"1\" class=\"dataframe\">\n",
       "  <thead>\n",
       "    <tr style=\"text-align: right;\">\n",
       "      <th></th>\n",
       "      <th>text</th>\n",
       "      <th>prop_mask</th>\n",
       "      <th>technique</th>\n",
       "    </tr>\n",
       "  </thead>\n",
       "  <tbody>\n",
       "    <tr>\n",
       "      <th>0</th>\n",
       "      <td>THERE ARE ONLY TWO GENDERS\\n\\nFEMALE \\n\\nMALE\\n</td>\n",
       "      <td>[1 1 1 1 1 1 1 1 1 1 1 1 1 1 1 1 1 1 1 1 1 1 1...</td>\n",
       "      <td>Black-and-white Fallacy/Dictatorship</td>\n",
       "    </tr>\n",
       "    <tr>\n",
       "      <th>1</th>\n",
       "      <td>SO BERNIE BROS HAVEN'T COMMITTED VIOLENCE EH?\\...</td>\n",
       "      <td>[0 0 0 0 0 0 0 0 0 0 0 0 0 0 0 0 0 0 0 0 0 0 0...</td>\n",
       "      <td>Slogans</td>\n",
       "    </tr>\n",
       "    <tr>\n",
       "      <th>2</th>\n",
       "      <td>SO BERNIE BROS HAVEN'T COMMITTED VIOLENCE EH?\\...</td>\n",
       "      <td>[0 0 0 1 1 1 1 1 1 1 1 1 1 1 0 0 0 0 0 0 0 0 0...</td>\n",
       "      <td>Name calling/Labeling</td>\n",
       "    </tr>\n",
       "    <tr>\n",
       "      <th>3</th>\n",
       "      <td>SO BERNIE BROS HAVEN'T COMMITTED VIOLENCE EH?\\...</td>\n",
       "      <td>[0 0 0 0 0 0 0 0 0 0 0 0 0 0 0 0 0 0 0 0 0 0 0...</td>\n",
       "      <td>Loaded Language</td>\n",
       "    </tr>\n",
       "    <tr>\n",
       "      <th>4</th>\n",
       "      <td>SO BERNIE BROS HAVEN'T COMMITTED VIOLENCE EH?\\...</td>\n",
       "      <td>[1 1 1 1 1 1 1 1 1 1 1 1 1 1 1 1 1 1 1 1 1 1 1...</td>\n",
       "      <td>Smears</td>\n",
       "    </tr>\n",
       "    <tr>\n",
       "      <th>...</th>\n",
       "      <td>...</td>\n",
       "      <td>...</td>\n",
       "      <td>...</td>\n",
       "    </tr>\n",
       "    <tr>\n",
       "      <th>7320</th>\n",
       "      <td>“Policies like background checks on all gun sa...</td>\n",
       "      <td>[0 0 0 0 0 0 0 0 0 0 0 0 0 0 0 0 0 0 0 0 0 0 0...</td>\n",
       "      <td>Slogans</td>\n",
       "    </tr>\n",
       "    <tr>\n",
       "      <th>7321</th>\n",
       "      <td>The group also passed a resolution backing red...</td>\n",
       "      <td>[0 0 0 0 0 0 0 0 0 0 0 0 0 0 0 0 0 0 0 0 0 0 0...</td>\n",
       "      <td>Repetition</td>\n",
       "    </tr>\n",
       "    <tr>\n",
       "      <th>7322</th>\n",
       "      <td>“Policies like background checks on all gun sa...</td>\n",
       "      <td>[0 0 0 0 0 0 0 0 0 0 0 0 0 0 0 0 0 0 0 0 0 0 0...</td>\n",
       "      <td>Repetition</td>\n",
       "    </tr>\n",
       "    <tr>\n",
       "      <th>7323</th>\n",
       "      <td>“The U.S. Conference of Mayors will continue d...</td>\n",
       "      <td>[0 0 0 0 0 0 0 0 0 0 0 0 0 0 0 0 0 0 0 0 0 0 0...</td>\n",
       "      <td>Flag-waving</td>\n",
       "    </tr>\n",
       "    <tr>\n",
       "      <th>7324</th>\n",
       "      <td>“It’s time for our leaders in Washington to fo...</td>\n",
       "      <td>[0 0 0 0 0 0 0 0 0 0 0 0 0 0 0 0 0 0 0 0 0 0 0...</td>\n",
       "      <td>Flag-waving</td>\n",
       "    </tr>\n",
       "  </tbody>\n",
       "</table>\n",
       "<p>7325 rows × 3 columns</p>\n",
       "</div>"
      ],
      "text/plain": [
       "                                                   text  \\\n",
       "0       THERE ARE ONLY TWO GENDERS\\n\\nFEMALE \\n\\nMALE\\n   \n",
       "1     SO BERNIE BROS HAVEN'T COMMITTED VIOLENCE EH?\\...   \n",
       "2     SO BERNIE BROS HAVEN'T COMMITTED VIOLENCE EH?\\...   \n",
       "3     SO BERNIE BROS HAVEN'T COMMITTED VIOLENCE EH?\\...   \n",
       "4     SO BERNIE BROS HAVEN'T COMMITTED VIOLENCE EH?\\...   \n",
       "...                                                 ...   \n",
       "7320  “Policies like background checks on all gun sa...   \n",
       "7321  The group also passed a resolution backing red...   \n",
       "7322  “Policies like background checks on all gun sa...   \n",
       "7323  “The U.S. Conference of Mayors will continue d...   \n",
       "7324  “It’s time for our leaders in Washington to fo...   \n",
       "\n",
       "                                              prop_mask  \\\n",
       "0     [1 1 1 1 1 1 1 1 1 1 1 1 1 1 1 1 1 1 1 1 1 1 1...   \n",
       "1     [0 0 0 0 0 0 0 0 0 0 0 0 0 0 0 0 0 0 0 0 0 0 0...   \n",
       "2     [0 0 0 1 1 1 1 1 1 1 1 1 1 1 0 0 0 0 0 0 0 0 0...   \n",
       "3     [0 0 0 0 0 0 0 0 0 0 0 0 0 0 0 0 0 0 0 0 0 0 0...   \n",
       "4     [1 1 1 1 1 1 1 1 1 1 1 1 1 1 1 1 1 1 1 1 1 1 1...   \n",
       "...                                                 ...   \n",
       "7320  [0 0 0 0 0 0 0 0 0 0 0 0 0 0 0 0 0 0 0 0 0 0 0...   \n",
       "7321  [0 0 0 0 0 0 0 0 0 0 0 0 0 0 0 0 0 0 0 0 0 0 0...   \n",
       "7322  [0 0 0 0 0 0 0 0 0 0 0 0 0 0 0 0 0 0 0 0 0 0 0...   \n",
       "7323  [0 0 0 0 0 0 0 0 0 0 0 0 0 0 0 0 0 0 0 0 0 0 0...   \n",
       "7324  [0 0 0 0 0 0 0 0 0 0 0 0 0 0 0 0 0 0 0 0 0 0 0...   \n",
       "\n",
       "                                 technique  \n",
       "0     Black-and-white Fallacy/Dictatorship  \n",
       "1                                  Slogans  \n",
       "2                    Name calling/Labeling  \n",
       "3                          Loaded Language  \n",
       "4                                   Smears  \n",
       "...                                    ...  \n",
       "7320                               Slogans  \n",
       "7321                            Repetition  \n",
       "7322                            Repetition  \n",
       "7323                           Flag-waving  \n",
       "7324                           Flag-waving  \n",
       "\n",
       "[7325 rows x 3 columns]"
      ]
     },
     "execution_count": 49,
     "metadata": {},
     "output_type": "execute_result"
    }
   ],
   "source": [
    "sep_train_pd"
   ]
  },
  {
   "cell_type": "code",
   "execution_count": 50,
   "metadata": {},
   "outputs": [],
   "source": [
    "def make_list(x):\n",
    "    x = x[1:-1].split()\n",
    "    x = list(map(int, x))\n",
    "    return x\n",
    "\n",
    "sep_train_pd[\"prop_mask\"] = sep_train_pd[\"prop_mask\"].apply(lambda x: make_list(x))"
   ]
  },
  {
   "cell_type": "code",
   "execution_count": 51,
   "metadata": {
    "colab": {
     "base_uri": "https://localhost:8080/",
     "height": 116,
     "referenced_widgets": [
      "f21694c44af3473db1a03a8872efc7ba",
      "f389e887e8dd43c5a93cb9bd172d1913",
      "2928d886b29c4dc5a21b85ecec70905f",
      "c40f2241970e48d5814282f1d78c4396",
      "fbad4c6f245449b781423089b70475a7",
      "169d5450fc7c4bfdb88d76fd0c942852",
      "6353f804a8304e68a638f6db27c8ebd7",
      "f8e0bd9d3ffe45dfb6d2c7765ea7500b",
      "9b1778789915413091dc2aedbf078adb",
      "55c039342f0d4a9da3f72867dafdf952",
      "ab7f40ac574346e5aff9d0fd65c7e197",
      "02bf06ed8c8b4c049c96e990e9fd837d",
      "5eb8475df57047c8b24401e038a12d7b",
      "6f6807a0e1fb4ca8a183e59d80138265",
      "47db5fbd04684483af9f2a237d492311",
      "45801f788fe24845be510e49fde1e2df"
     ]
    },
    "id": "jNgxuUNFpMEu",
    "outputId": "fa489f5a-2468-42e2-caa6-b5b929f38f81"
   },
   "outputs": [],
   "source": [
    "from transformers import AutoTokenizer, AutoModel\n",
    "\n",
    "tokenizer = AutoTokenizer.from_pretrained(\"SpanBERT/spanbert-base-cased\")"
   ]
  },
  {
   "cell_type": "code",
   "execution_count": 54,
   "metadata": {
    "id": "q3DUO1DTpMEu"
   },
   "outputs": [],
   "source": [
    "def preprocessing(data, max_len=250):\n",
    "    col_input_ids = []\n",
    "    col_attention_mask = []\n",
    "    col_token_type_ids = []\n",
    "    col_token_prop_mask = []\n",
    "    \n",
    "    for i in range(data.shape[0]):\n",
    "        token_text = tokenizer.encode_plus(\n",
    "            data[\"text\"][i], \n",
    "            return_offsets_mapping=True,\n",
    "            max_length=max_len,\n",
    "            truncation=True\n",
    "        )\n",
    "        \n",
    "        token_count = len(token_text.input_ids)\n",
    "        token_prop_mask = [0] * max_len\n",
    "        for j, (ind_s, ind_e) in enumerate(token_text.offset_mapping):\n",
    "            if sum(data[\"prop_mask\"][i][ind_s:ind_e]) > 0:\n",
    "                #print(data[\"text\"][i][ind_s:ind_e], 109)\n",
    "                token_prop_mask[j] = 1\n",
    "            \n",
    "        col_token_prop_mask.append(token_prop_mask) \n",
    "\n",
    "        token_technique = tokenizer.encode_plus(\n",
    "            data[\"technique\"][i], \n",
    "            return_offsets_mapping=True, \n",
    "            max_length=max_len, \n",
    "            truncation=True\n",
    "        )\n",
    "\n",
    "        input_ids = token_text.input_ids + token_technique.input_ids[1:]\n",
    "        token_type_ids = [0] * token_count + [1] * len(token_technique.input_ids[1:])\n",
    "        len_input_ids = len(input_ids)\n",
    "        attention_mask = [1] * len_input_ids\n",
    "\n",
    "        assert max_len > len_input_ids, f\"max_len {max_len} <= len_input_ids {len_input_ids}\"\n",
    "        \n",
    "        padding = [0] * (max_len - len_input_ids)\n",
    "        col_input_ids.append(input_ids + padding)\n",
    "        col_attention_mask.append(attention_mask + padding)\n",
    "        col_token_type_ids.append(token_type_ids + padding)\n",
    "\n",
    "        #if sum(token_prop_mask) > 0:\n",
    "        #    print(data[\"technique\"][i])\n",
    "        #    print(data[\"text\"][i])\n",
    "        #    inp_ids = np.array(input_ids + padding)\n",
    "        #    mask_ids = np.array(token_prop_mask)\n",
    "        #    np_text = np.array(list(data[\"text\"][i]))\n",
    "        #    np_prop = np.array(data[\"prop_mask\"][i])\n",
    "        #    my_tok = inp_ids[mask_ids == 1] \n",
    "        #    prop_mask = data[\"prop_mask\"][i]\n",
    "        #    print(\"|\", \"\".join(np_text[np_prop == 1]), \"|\")\n",
    "        #    print(tokenizer.decode(my_tok))\n",
    "        #    return\n",
    "        \n",
    "    return col_input_ids, col_attention_mask, col_token_type_ids, col_token_prop_mask"
   ]
  },
  {
   "cell_type": "code",
   "execution_count": 55,
   "metadata": {
    "id": "a6W-rHObpMEv"
   },
   "outputs": [],
   "source": [
    "col_input_ids, col_attention_mask, col_token_type_ids, col_token_prop_mask = preprocessing(sep_train_pd)\n",
    "sep_train_pd[\"col_input_ids\"] = col_input_ids\n",
    "sep_train_pd[\"col_attention_mask\"] = col_attention_mask\n",
    "sep_train_pd[\"col_token_type_ids\"] = col_token_type_ids\n",
    "sep_train_pd[\"col_token_prop_mask\"] = col_token_prop_mask"
   ]
  },
  {
   "cell_type": "code",
   "execution_count": 56,
   "metadata": {
    "colab": {
     "base_uri": "https://localhost:8080/",
     "height": 926
    },
    "id": "CHI99lu0lh48",
    "outputId": "a779a041-dfe7-425c-93ca-52a3d26ddd7a"
   },
   "outputs": [
    {
     "data": {
      "text/html": [
       "<div>\n",
       "<style scoped>\n",
       "    .dataframe tbody tr th:only-of-type {\n",
       "        vertical-align: middle;\n",
       "    }\n",
       "\n",
       "    .dataframe tbody tr th {\n",
       "        vertical-align: top;\n",
       "    }\n",
       "\n",
       "    .dataframe thead th {\n",
       "        text-align: right;\n",
       "    }\n",
       "</style>\n",
       "<table border=\"1\" class=\"dataframe\">\n",
       "  <thead>\n",
       "    <tr style=\"text-align: right;\">\n",
       "      <th></th>\n",
       "      <th>text</th>\n",
       "      <th>prop_mask</th>\n",
       "      <th>technique</th>\n",
       "      <th>col_input_ids</th>\n",
       "      <th>col_attention_mask</th>\n",
       "      <th>col_token_type_ids</th>\n",
       "      <th>col_token_prop_mask</th>\n",
       "    </tr>\n",
       "  </thead>\n",
       "  <tbody>\n",
       "    <tr>\n",
       "      <th>0</th>\n",
       "      <td>THERE ARE ONLY TWO GENDERS\\n\\nFEMALE \\n\\nMALE\\n</td>\n",
       "      <td>[1, 1, 1, 1, 1, 1, 1, 1, 1, 1, 1, 1, 1, 1, 1, ...</td>\n",
       "      <td>Black-and-white Fallacy/Dictatorship</td>\n",
       "      <td>[101, 1175, 1132, 1178, 1160, 5772, 1116, 2130...</td>\n",
       "      <td>[1, 1, 1, 1, 1, 1, 1, 1, 1, 1, 1, 1, 1, 1, 1, ...</td>\n",
       "      <td>[0, 0, 0, 0, 0, 0, 0, 0, 0, 0, 1, 1, 1, 1, 1, ...</td>\n",
       "      <td>[0, 1, 1, 1, 1, 1, 1, 1, 1, 0, 0, 0, 0, 0, 0, ...</td>\n",
       "    </tr>\n",
       "    <tr>\n",
       "      <th>1</th>\n",
       "      <td>SO BERNIE BROS HAVEN'T COMMITTED VIOLENCE EH?\\...</td>\n",
       "      <td>[0, 0, 0, 0, 0, 0, 0, 0, 0, 0, 0, 0, 0, 0, 0, ...</td>\n",
       "      <td>Slogans</td>\n",
       "      <td>[101, 1177, 1129, 4558, 1663, 9304, 2155, 3983...</td>\n",
       "      <td>[1, 1, 1, 1, 1, 1, 1, 1, 1, 1, 1, 1, 1, 1, 1, ...</td>\n",
       "      <td>[0, 0, 0, 0, 0, 0, 0, 0, 0, 0, 0, 0, 0, 0, 0, ...</td>\n",
       "      <td>[0, 0, 0, 0, 0, 0, 0, 0, 0, 0, 0, 0, 0, 0, 1, ...</td>\n",
       "    </tr>\n",
       "    <tr>\n",
       "      <th>2</th>\n",
       "      <td>SO BERNIE BROS HAVEN'T COMMITTED VIOLENCE EH?\\...</td>\n",
       "      <td>[0, 0, 0, 1, 1, 1, 1, 1, 1, 1, 1, 1, 1, 1, 0, ...</td>\n",
       "      <td>Name calling/Labeling</td>\n",
       "      <td>[101, 1177, 1129, 4558, 1663, 9304, 2155, 3983...</td>\n",
       "      <td>[1, 1, 1, 1, 1, 1, 1, 1, 1, 1, 1, 1, 1, 1, 1, ...</td>\n",
       "      <td>[0, 0, 0, 0, 0, 0, 0, 0, 0, 0, 0, 0, 0, 0, 0, ...</td>\n",
       "      <td>[0, 0, 1, 1, 1, 1, 1, 0, 0, 0, 0, 0, 0, 0, 0, ...</td>\n",
       "    </tr>\n",
       "    <tr>\n",
       "      <th>3</th>\n",
       "      <td>SO BERNIE BROS HAVEN'T COMMITTED VIOLENCE EH?\\...</td>\n",
       "      <td>[0, 0, 0, 0, 0, 0, 0, 0, 0, 0, 0, 0, 0, 0, 0, ...</td>\n",
       "      <td>Loaded Language</td>\n",
       "      <td>[101, 1177, 1129, 4558, 1663, 9304, 2155, 3983...</td>\n",
       "      <td>[1, 1, 1, 1, 1, 1, 1, 1, 1, 1, 1, 1, 1, 1, 1, ...</td>\n",
       "      <td>[0, 0, 0, 0, 0, 0, 0, 0, 0, 0, 0, 0, 0, 0, 0, ...</td>\n",
       "      <td>[0, 0, 0, 0, 0, 0, 0, 0, 0, 0, 0, 1, 0, 0, 0, ...</td>\n",
       "    </tr>\n",
       "    <tr>\n",
       "      <th>4</th>\n",
       "      <td>SO BERNIE BROS HAVEN'T COMMITTED VIOLENCE EH?\\...</td>\n",
       "      <td>[1, 1, 1, 1, 1, 1, 1, 1, 1, 1, 1, 1, 1, 1, 1, ...</td>\n",
       "      <td>Smears</td>\n",
       "      <td>[101, 1177, 1129, 4558, 1663, 9304, 2155, 3983...</td>\n",
       "      <td>[1, 1, 1, 1, 1, 1, 1, 1, 1, 1, 1, 1, 1, 1, 1, ...</td>\n",
       "      <td>[0, 0, 0, 0, 0, 0, 0, 0, 0, 0, 0, 0, 0, 0, 0, ...</td>\n",
       "      <td>[0, 1, 1, 1, 1, 1, 1, 1, 1, 1, 1, 1, 1, 1, 1, ...</td>\n",
       "    </tr>\n",
       "    <tr>\n",
       "      <th>...</th>\n",
       "      <td>...</td>\n",
       "      <td>...</td>\n",
       "      <td>...</td>\n",
       "      <td>...</td>\n",
       "      <td>...</td>\n",
       "      <td>...</td>\n",
       "      <td>...</td>\n",
       "    </tr>\n",
       "    <tr>\n",
       "      <th>7320</th>\n",
       "      <td>“Policies like background checks on all gun sa...</td>\n",
       "      <td>[0, 0, 0, 0, 0, 0, 0, 0, 0, 0, 0, 0, 0, 0, 0, ...</td>\n",
       "      <td>Slogans</td>\n",
       "      <td>[101, 789, 5502, 1176, 3582, 15008, 1113, 1155...</td>\n",
       "      <td>[1, 1, 1, 1, 1, 1, 1, 1, 1, 1, 1, 1, 1, 1, 1, ...</td>\n",
       "      <td>[0, 0, 0, 0, 0, 0, 0, 0, 0, 0, 0, 0, 0, 0, 0, ...</td>\n",
       "      <td>[0, 0, 0, 0, 0, 0, 0, 0, 0, 0, 0, 0, 0, 0, 0, ...</td>\n",
       "    </tr>\n",
       "    <tr>\n",
       "      <th>7321</th>\n",
       "      <td>The group also passed a resolution backing red...</td>\n",
       "      <td>[0, 0, 0, 0, 0, 0, 0, 0, 0, 0, 0, 0, 0, 0, 0, ...</td>\n",
       "      <td>Repetition</td>\n",
       "      <td>[101, 1103, 1372, 1145, 2085, 170, 6021, 4581,...</td>\n",
       "      <td>[1, 1, 1, 1, 1, 1, 1, 1, 1, 1, 1, 1, 1, 1, 1, ...</td>\n",
       "      <td>[0, 0, 0, 0, 0, 0, 0, 0, 0, 0, 0, 0, 0, 0, 0, ...</td>\n",
       "      <td>[0, 0, 0, 0, 0, 0, 0, 0, 0, 0, 0, 0, 0, 0, 0, ...</td>\n",
       "    </tr>\n",
       "    <tr>\n",
       "      <th>7322</th>\n",
       "      <td>“Policies like background checks on all gun sa...</td>\n",
       "      <td>[0, 0, 0, 0, 0, 0, 0, 0, 0, 0, 0, 0, 0, 0, 0, ...</td>\n",
       "      <td>Repetition</td>\n",
       "      <td>[101, 789, 5502, 1176, 3582, 15008, 1113, 1155...</td>\n",
       "      <td>[1, 1, 1, 1, 1, 1, 1, 1, 1, 1, 1, 1, 1, 1, 1, ...</td>\n",
       "      <td>[0, 0, 0, 0, 0, 0, 0, 0, 0, 0, 0, 0, 0, 0, 0, ...</td>\n",
       "      <td>[0, 0, 0, 0, 0, 0, 0, 0, 0, 0, 0, 0, 0, 0, 0, ...</td>\n",
       "    </tr>\n",
       "    <tr>\n",
       "      <th>7323</th>\n",
       "      <td>“The U.S. Conference of Mayors will continue d...</td>\n",
       "      <td>[0, 0, 0, 0, 0, 0, 0, 0, 0, 0, 0, 0, 0, 0, 0, ...</td>\n",
       "      <td>Flag-waving</td>\n",
       "      <td>[101, 789, 1103, 190, 119, 188, 119, 3511, 110...</td>\n",
       "      <td>[1, 1, 1, 1, 1, 1, 1, 1, 1, 1, 1, 1, 1, 1, 1, ...</td>\n",
       "      <td>[0, 0, 0, 0, 0, 0, 0, 0, 0, 0, 0, 0, 0, 0, 0, ...</td>\n",
       "      <td>[0, 0, 0, 0, 0, 0, 0, 0, 0, 0, 0, 0, 0, 0, 0, ...</td>\n",
       "    </tr>\n",
       "    <tr>\n",
       "      <th>7324</th>\n",
       "      <td>“It’s time for our leaders in Washington to fo...</td>\n",
       "      <td>[0, 0, 0, 0, 0, 0, 0, 0, 0, 0, 0, 0, 0, 0, 0, ...</td>\n",
       "      <td>Flag-waving</td>\n",
       "      <td>[101, 789, 1122, 787, 188, 1159, 1111, 1412, 3...</td>\n",
       "      <td>[1, 1, 1, 1, 1, 1, 1, 1, 1, 1, 1, 1, 1, 1, 1, ...</td>\n",
       "      <td>[0, 0, 0, 0, 0, 0, 0, 0, 0, 0, 0, 0, 0, 0, 0, ...</td>\n",
       "      <td>[0, 0, 0, 0, 0, 0, 0, 0, 0, 0, 0, 0, 0, 0, 0, ...</td>\n",
       "    </tr>\n",
       "  </tbody>\n",
       "</table>\n",
       "<p>7325 rows × 7 columns</p>\n",
       "</div>"
      ],
      "text/plain": [
       "                                                   text  \\\n",
       "0       THERE ARE ONLY TWO GENDERS\\n\\nFEMALE \\n\\nMALE\\n   \n",
       "1     SO BERNIE BROS HAVEN'T COMMITTED VIOLENCE EH?\\...   \n",
       "2     SO BERNIE BROS HAVEN'T COMMITTED VIOLENCE EH?\\...   \n",
       "3     SO BERNIE BROS HAVEN'T COMMITTED VIOLENCE EH?\\...   \n",
       "4     SO BERNIE BROS HAVEN'T COMMITTED VIOLENCE EH?\\...   \n",
       "...                                                 ...   \n",
       "7320  “Policies like background checks on all gun sa...   \n",
       "7321  The group also passed a resolution backing red...   \n",
       "7322  “Policies like background checks on all gun sa...   \n",
       "7323  “The U.S. Conference of Mayors will continue d...   \n",
       "7324  “It’s time for our leaders in Washington to fo...   \n",
       "\n",
       "                                              prop_mask  \\\n",
       "0     [1, 1, 1, 1, 1, 1, 1, 1, 1, 1, 1, 1, 1, 1, 1, ...   \n",
       "1     [0, 0, 0, 0, 0, 0, 0, 0, 0, 0, 0, 0, 0, 0, 0, ...   \n",
       "2     [0, 0, 0, 1, 1, 1, 1, 1, 1, 1, 1, 1, 1, 1, 0, ...   \n",
       "3     [0, 0, 0, 0, 0, 0, 0, 0, 0, 0, 0, 0, 0, 0, 0, ...   \n",
       "4     [1, 1, 1, 1, 1, 1, 1, 1, 1, 1, 1, 1, 1, 1, 1, ...   \n",
       "...                                                 ...   \n",
       "7320  [0, 0, 0, 0, 0, 0, 0, 0, 0, 0, 0, 0, 0, 0, 0, ...   \n",
       "7321  [0, 0, 0, 0, 0, 0, 0, 0, 0, 0, 0, 0, 0, 0, 0, ...   \n",
       "7322  [0, 0, 0, 0, 0, 0, 0, 0, 0, 0, 0, 0, 0, 0, 0, ...   \n",
       "7323  [0, 0, 0, 0, 0, 0, 0, 0, 0, 0, 0, 0, 0, 0, 0, ...   \n",
       "7324  [0, 0, 0, 0, 0, 0, 0, 0, 0, 0, 0, 0, 0, 0, 0, ...   \n",
       "\n",
       "                                 technique  \\\n",
       "0     Black-and-white Fallacy/Dictatorship   \n",
       "1                                  Slogans   \n",
       "2                    Name calling/Labeling   \n",
       "3                          Loaded Language   \n",
       "4                                   Smears   \n",
       "...                                    ...   \n",
       "7320                               Slogans   \n",
       "7321                            Repetition   \n",
       "7322                            Repetition   \n",
       "7323                           Flag-waving   \n",
       "7324                           Flag-waving   \n",
       "\n",
       "                                          col_input_ids  \\\n",
       "0     [101, 1175, 1132, 1178, 1160, 5772, 1116, 2130...   \n",
       "1     [101, 1177, 1129, 4558, 1663, 9304, 2155, 3983...   \n",
       "2     [101, 1177, 1129, 4558, 1663, 9304, 2155, 3983...   \n",
       "3     [101, 1177, 1129, 4558, 1663, 9304, 2155, 3983...   \n",
       "4     [101, 1177, 1129, 4558, 1663, 9304, 2155, 3983...   \n",
       "...                                                 ...   \n",
       "7320  [101, 789, 5502, 1176, 3582, 15008, 1113, 1155...   \n",
       "7321  [101, 1103, 1372, 1145, 2085, 170, 6021, 4581,...   \n",
       "7322  [101, 789, 5502, 1176, 3582, 15008, 1113, 1155...   \n",
       "7323  [101, 789, 1103, 190, 119, 188, 119, 3511, 110...   \n",
       "7324  [101, 789, 1122, 787, 188, 1159, 1111, 1412, 3...   \n",
       "\n",
       "                                     col_attention_mask  \\\n",
       "0     [1, 1, 1, 1, 1, 1, 1, 1, 1, 1, 1, 1, 1, 1, 1, ...   \n",
       "1     [1, 1, 1, 1, 1, 1, 1, 1, 1, 1, 1, 1, 1, 1, 1, ...   \n",
       "2     [1, 1, 1, 1, 1, 1, 1, 1, 1, 1, 1, 1, 1, 1, 1, ...   \n",
       "3     [1, 1, 1, 1, 1, 1, 1, 1, 1, 1, 1, 1, 1, 1, 1, ...   \n",
       "4     [1, 1, 1, 1, 1, 1, 1, 1, 1, 1, 1, 1, 1, 1, 1, ...   \n",
       "...                                                 ...   \n",
       "7320  [1, 1, 1, 1, 1, 1, 1, 1, 1, 1, 1, 1, 1, 1, 1, ...   \n",
       "7321  [1, 1, 1, 1, 1, 1, 1, 1, 1, 1, 1, 1, 1, 1, 1, ...   \n",
       "7322  [1, 1, 1, 1, 1, 1, 1, 1, 1, 1, 1, 1, 1, 1, 1, ...   \n",
       "7323  [1, 1, 1, 1, 1, 1, 1, 1, 1, 1, 1, 1, 1, 1, 1, ...   \n",
       "7324  [1, 1, 1, 1, 1, 1, 1, 1, 1, 1, 1, 1, 1, 1, 1, ...   \n",
       "\n",
       "                                     col_token_type_ids  \\\n",
       "0     [0, 0, 0, 0, 0, 0, 0, 0, 0, 0, 1, 1, 1, 1, 1, ...   \n",
       "1     [0, 0, 0, 0, 0, 0, 0, 0, 0, 0, 0, 0, 0, 0, 0, ...   \n",
       "2     [0, 0, 0, 0, 0, 0, 0, 0, 0, 0, 0, 0, 0, 0, 0, ...   \n",
       "3     [0, 0, 0, 0, 0, 0, 0, 0, 0, 0, 0, 0, 0, 0, 0, ...   \n",
       "4     [0, 0, 0, 0, 0, 0, 0, 0, 0, 0, 0, 0, 0, 0, 0, ...   \n",
       "...                                                 ...   \n",
       "7320  [0, 0, 0, 0, 0, 0, 0, 0, 0, 0, 0, 0, 0, 0, 0, ...   \n",
       "7321  [0, 0, 0, 0, 0, 0, 0, 0, 0, 0, 0, 0, 0, 0, 0, ...   \n",
       "7322  [0, 0, 0, 0, 0, 0, 0, 0, 0, 0, 0, 0, 0, 0, 0, ...   \n",
       "7323  [0, 0, 0, 0, 0, 0, 0, 0, 0, 0, 0, 0, 0, 0, 0, ...   \n",
       "7324  [0, 0, 0, 0, 0, 0, 0, 0, 0, 0, 0, 0, 0, 0, 0, ...   \n",
       "\n",
       "                                    col_token_prop_mask  \n",
       "0     [0, 1, 1, 1, 1, 1, 1, 1, 1, 0, 0, 0, 0, 0, 0, ...  \n",
       "1     [0, 0, 0, 0, 0, 0, 0, 0, 0, 0, 0, 0, 0, 0, 1, ...  \n",
       "2     [0, 0, 1, 1, 1, 1, 1, 0, 0, 0, 0, 0, 0, 0, 0, ...  \n",
       "3     [0, 0, 0, 0, 0, 0, 0, 0, 0, 0, 0, 1, 0, 0, 0, ...  \n",
       "4     [0, 1, 1, 1, 1, 1, 1, 1, 1, 1, 1, 1, 1, 1, 1, ...  \n",
       "...                                                 ...  \n",
       "7320  [0, 0, 0, 0, 0, 0, 0, 0, 0, 0, 0, 0, 0, 0, 0, ...  \n",
       "7321  [0, 0, 0, 0, 0, 0, 0, 0, 0, 0, 0, 0, 0, 0, 0, ...  \n",
       "7322  [0, 0, 0, 0, 0, 0, 0, 0, 0, 0, 0, 0, 0, 0, 0, ...  \n",
       "7323  [0, 0, 0, 0, 0, 0, 0, 0, 0, 0, 0, 0, 0, 0, 0, ...  \n",
       "7324  [0, 0, 0, 0, 0, 0, 0, 0, 0, 0, 0, 0, 0, 0, 0, ...  \n",
       "\n",
       "[7325 rows x 7 columns]"
      ]
     },
     "execution_count": 56,
     "metadata": {},
     "output_type": "execute_result"
    }
   ],
   "source": [
    "sep_train_pd"
   ]
  },
  {
   "cell_type": "code",
   "execution_count": 57,
   "metadata": {
    "colab": {
     "base_uri": "https://localhost:8080/"
    },
    "id": "DJzrCSPssmA3",
    "outputId": "6d12de0a-e783-42a4-efdd-ba4a3c43510b"
   },
   "outputs": [
    {
     "name": "stderr",
     "output_type": "stream",
     "text": [
      "<ipython-input-57-e6ccef707bb5>:4: VisibleDeprecationWarning: Creating an ndarray from ragged nested sequences (which is a list-or-tuple of lists-or-tuples-or ndarrays with different lengths or shapes) is deprecated. If you meant to do this, you must specify 'dtype=object' when creating the ndarray\n",
      "  sep_dev_pd = pd.DataFrame(np.array([texts, prop_mask, techniques]).T,\n"
     ]
    }
   ],
   "source": [
    "dev_pd = pd.read_json(\"data1/dev_set_task2.txt\")\n",
    "\n",
    "texts, prop_mask, techniques = separation_of_topics(dev_pd)\n",
    "sep_dev_pd = pd.DataFrame(np.array([texts, prop_mask, techniques]).T,\n",
    "                            columns = [\"text\", \"prop_mask\", \"technique\"])\n",
    "col_input_ids, col_attention_mask, col_token_type_ids, col_token_prop_mask = preprocessing(sep_dev_pd)\n",
    "sep_dev_pd[\"col_input_ids\"] = col_input_ids\n",
    "sep_dev_pd[\"col_attention_mask\"] = col_attention_mask\n",
    "sep_dev_pd[\"col_token_type_ids\"] = col_token_type_ids\n",
    "sep_dev_pd[\"col_token_prop_mask\"] = col_token_prop_mask"
   ]
  },
  {
   "cell_type": "code",
   "execution_count": 58,
   "metadata": {
    "colab": {
     "base_uri": "https://localhost:8080/",
     "height": 926
    },
    "id": "C6pY6bfepMEw",
    "outputId": "c06c784f-1a44-440b-b15e-149c3658ba6a"
   },
   "outputs": [
    {
     "data": {
      "text/html": [
       "<div>\n",
       "<style scoped>\n",
       "    .dataframe tbody tr th:only-of-type {\n",
       "        vertical-align: middle;\n",
       "    }\n",
       "\n",
       "    .dataframe tbody tr th {\n",
       "        vertical-align: top;\n",
       "    }\n",
       "\n",
       "    .dataframe thead th {\n",
       "        text-align: right;\n",
       "    }\n",
       "</style>\n",
       "<table border=\"1\" class=\"dataframe\">\n",
       "  <thead>\n",
       "    <tr style=\"text-align: right;\">\n",
       "      <th></th>\n",
       "      <th>text</th>\n",
       "      <th>prop_mask</th>\n",
       "      <th>technique</th>\n",
       "      <th>col_input_ids</th>\n",
       "      <th>col_attention_mask</th>\n",
       "      <th>col_token_type_ids</th>\n",
       "      <th>col_token_prop_mask</th>\n",
       "    </tr>\n",
       "  </thead>\n",
       "  <tbody>\n",
       "    <tr>\n",
       "      <th>0</th>\n",
       "      <td>JOE  VERSUS THE VOLCANIC KREMLIN DON\\n\\n\"WILL ...</td>\n",
       "      <td>[0, 0, 0, 0, 0, 0, 0, 0, 0, 0, 0, 0, 0, 0, 0, ...</td>\n",
       "      <td>Loaded Language</td>\n",
       "      <td>[101, 179, 7745, 6055, 1103, 12069, 180, 16996...</td>\n",
       "      <td>[1, 1, 1, 1, 1, 1, 1, 1, 1, 1, 1, 1, 1, 1, 1, ...</td>\n",
       "      <td>[0, 0, 0, 0, 0, 0, 0, 0, 0, 0, 0, 0, 0, 0, 0, ...</td>\n",
       "      <td>[0, 0, 0, 0, 0, 0, 0, 0, 0, 0, 0, 0, 0, 1, 1, ...</td>\n",
       "    </tr>\n",
       "    <tr>\n",
       "      <th>1</th>\n",
       "      <td>JOE  VERSUS THE VOLCANIC KREMLIN DON\\n\\n\"WILL ...</td>\n",
       "      <td>[0, 0, 0, 0, 0, 0, 0, 0, 0, 0, 0, 0, 0, 0, 0, ...</td>\n",
       "      <td>Name calling/Labeling</td>\n",
       "      <td>[101, 179, 7745, 6055, 1103, 12069, 180, 16996...</td>\n",
       "      <td>[1, 1, 1, 1, 1, 1, 1, 1, 1, 1, 1, 1, 1, 1, 1, ...</td>\n",
       "      <td>[0, 0, 0, 0, 0, 0, 0, 0, 0, 0, 0, 0, 0, 0, 0, ...</td>\n",
       "      <td>[0, 0, 0, 0, 0, 1, 1, 1, 1, 1, 0, 0, 0, 0, 0, ...</td>\n",
       "    </tr>\n",
       "    <tr>\n",
       "      <th>2</th>\n",
       "      <td>Never thought l'd die fighting IRRESPONSIBLY R...</td>\n",
       "      <td>[0, 0, 0, 0, 0, 0, 0, 0, 0, 0, 0, 0, 0, 0, 0, ...</td>\n",
       "      <td>Exaggeration/Minimisation</td>\n",
       "      <td>[101, 1309, 1354, 181, 112, 173, 2939, 2935, 1...</td>\n",
       "      <td>[1, 1, 1, 1, 1, 1, 1, 1, 1, 1, 1, 1, 1, 1, 1, ...</td>\n",
       "      <td>[0, 0, 0, 0, 0, 0, 0, 0, 0, 0, 0, 0, 0, 0, 0, ...</td>\n",
       "      <td>[0, 0, 0, 0, 0, 0, 1, 1, 0, 0, 0, 0, 0, 0, 0, ...</td>\n",
       "    </tr>\n",
       "    <tr>\n",
       "      <th>3</th>\n",
       "      <td>Never thought l'd die fighting IRRESPONSIBLY R...</td>\n",
       "      <td>[0, 0, 0, 0, 0, 0, 0, 0, 0, 0, 0, 0, 0, 0, 0, ...</td>\n",
       "      <td>Loaded Language</td>\n",
       "      <td>[101, 1309, 1354, 181, 112, 173, 2939, 2935, 1...</td>\n",
       "      <td>[1, 1, 1, 1, 1, 1, 1, 1, 1, 1, 1, 1, 1, 1, 1, ...</td>\n",
       "      <td>[0, 0, 0, 0, 0, 0, 0, 0, 0, 0, 0, 0, 0, 0, 0, ...</td>\n",
       "      <td>[0, 0, 0, 0, 0, 0, 0, 0, 1, 1, 1, 1, 1, 1, 1, ...</td>\n",
       "    </tr>\n",
       "    <tr>\n",
       "      <th>4</th>\n",
       "      <td>Never thought l'd die fighting IRRESPONSIBLY R...</td>\n",
       "      <td>[0, 0, 0, 0, 0, 0, 0, 0, 0, 0, 0, 0, 0, 0, 0, ...</td>\n",
       "      <td>Name calling/Labeling</td>\n",
       "      <td>[101, 1309, 1354, 181, 112, 173, 2939, 2935, 1...</td>\n",
       "      <td>[1, 1, 1, 1, 1, 1, 1, 1, 1, 1, 1, 1, 1, 1, 1, ...</td>\n",
       "      <td>[0, 0, 0, 0, 0, 0, 0, 0, 0, 0, 0, 0, 0, 0, 0, ...</td>\n",
       "      <td>[0, 0, 0, 0, 0, 0, 0, 0, 1, 1, 1, 1, 1, 1, 1, ...</td>\n",
       "    </tr>\n",
       "    <tr>\n",
       "      <th>...</th>\n",
       "      <td>...</td>\n",
       "      <td>...</td>\n",
       "      <td>...</td>\n",
       "      <td>...</td>\n",
       "      <td>...</td>\n",
       "      <td>...</td>\n",
       "      <td>...</td>\n",
       "    </tr>\n",
       "    <tr>\n",
       "      <th>118</th>\n",
       "      <td>Deceitful\\nObnoxious\\nNarcissist\\nArrogant\\nLy...</td>\n",
       "      <td>[1, 1, 1, 1, 1, 1, 1, 1, 1, 1, 1, 1, 1, 1, 1, ...</td>\n",
       "      <td>Loaded Language</td>\n",
       "      <td>[101, 1260, 2093, 2875, 2365, 184, 1830, 2728,...</td>\n",
       "      <td>[1, 1, 1, 1, 1, 1, 1, 1, 1, 1, 1, 1, 1, 1, 1, ...</td>\n",
       "      <td>[0, 0, 0, 0, 0, 0, 0, 0, 0, 0, 0, 0, 0, 0, 0, ...</td>\n",
       "      <td>[0, 1, 1, 1, 1, 1, 1, 1, 1, 1, 1, 1, 1, 1, 1, ...</td>\n",
       "    </tr>\n",
       "    <tr>\n",
       "      <th>119</th>\n",
       "      <td>Deceitful\\nObnoxious\\nNarcissist\\nArrogant\\nLy...</td>\n",
       "      <td>[1, 1, 1, 1, 1, 1, 1, 1, 1, 1, 1, 1, 1, 1, 1, ...</td>\n",
       "      <td>Name calling/Labeling</td>\n",
       "      <td>[101, 1260, 2093, 2875, 2365, 184, 1830, 2728,...</td>\n",
       "      <td>[1, 1, 1, 1, 1, 1, 1, 1, 1, 1, 1, 1, 1, 1, 1, ...</td>\n",
       "      <td>[0, 0, 0, 0, 0, 0, 0, 0, 0, 0, 0, 0, 0, 0, 0, ...</td>\n",
       "      <td>[0, 1, 1, 1, 1, 1, 1, 1, 1, 1, 1, 1, 1, 1, 1, ...</td>\n",
       "    </tr>\n",
       "    <tr>\n",
       "      <th>120</th>\n",
       "      <td>Got 195,000 + Americans KILLED.\\nFought scient...</td>\n",
       "      <td>[1, 1, 1, 1, 1, 1, 1, 1, 1, 1, 1, 1, 1, 1, 1, ...</td>\n",
       "      <td>Appeal to fear/prejudice</td>\n",
       "      <td>[101, 1400, 18500, 117, 1288, 116, 1821, 26237...</td>\n",
       "      <td>[1, 1, 1, 1, 1, 1, 1, 1, 1, 1, 1, 1, 1, 1, 1, ...</td>\n",
       "      <td>[0, 0, 0, 0, 0, 0, 0, 0, 0, 0, 0, 0, 0, 0, 0, ...</td>\n",
       "      <td>[0, 1, 1, 1, 1, 1, 1, 1, 1, 1, 0, 0, 0, 0, 0, ...</td>\n",
       "    </tr>\n",
       "    <tr>\n",
       "      <th>121</th>\n",
       "      <td>Got 195,000 + Americans KILLED.\\nFought scient...</td>\n",
       "      <td>[0, 0, 0, 0, 0, 0, 0, 0, 0, 0, 0, 0, 0, 0, 0, ...</td>\n",
       "      <td>Loaded Language</td>\n",
       "      <td>[101, 1400, 18500, 117, 1288, 116, 1821, 26237...</td>\n",
       "      <td>[1, 1, 1, 1, 1, 1, 1, 1, 1, 1, 1, 1, 1, 1, 1, ...</td>\n",
       "      <td>[0, 0, 0, 0, 0, 0, 0, 0, 0, 0, 0, 0, 0, 0, 0, ...</td>\n",
       "      <td>[0, 0, 0, 0, 0, 0, 0, 0, 0, 1, 0, 0, 0, 0, 0, ...</td>\n",
       "    </tr>\n",
       "    <tr>\n",
       "      <th>122</th>\n",
       "      <td>Got 195,000 + Americans KILLED.\\nFought scient...</td>\n",
       "      <td>[1, 1, 1, 1, 1, 1, 1, 1, 1, 1, 1, 1, 1, 1, 1, ...</td>\n",
       "      <td>Smears</td>\n",
       "      <td>[101, 1400, 18500, 117, 1288, 116, 1821, 26237...</td>\n",
       "      <td>[1, 1, 1, 1, 1, 1, 1, 1, 1, 1, 1, 1, 1, 1, 1, ...</td>\n",
       "      <td>[0, 0, 0, 0, 0, 0, 0, 0, 0, 0, 0, 0, 0, 0, 0, ...</td>\n",
       "      <td>[0, 1, 1, 1, 1, 1, 1, 1, 1, 1, 1, 1, 1, 1, 1, ...</td>\n",
       "    </tr>\n",
       "  </tbody>\n",
       "</table>\n",
       "<p>123 rows × 7 columns</p>\n",
       "</div>"
      ],
      "text/plain": [
       "                                                  text  \\\n",
       "0    JOE  VERSUS THE VOLCANIC KREMLIN DON\\n\\n\"WILL ...   \n",
       "1    JOE  VERSUS THE VOLCANIC KREMLIN DON\\n\\n\"WILL ...   \n",
       "2    Never thought l'd die fighting IRRESPONSIBLY R...   \n",
       "3    Never thought l'd die fighting IRRESPONSIBLY R...   \n",
       "4    Never thought l'd die fighting IRRESPONSIBLY R...   \n",
       "..                                                 ...   \n",
       "118  Deceitful\\nObnoxious\\nNarcissist\\nArrogant\\nLy...   \n",
       "119  Deceitful\\nObnoxious\\nNarcissist\\nArrogant\\nLy...   \n",
       "120  Got 195,000 + Americans KILLED.\\nFought scient...   \n",
       "121  Got 195,000 + Americans KILLED.\\nFought scient...   \n",
       "122  Got 195,000 + Americans KILLED.\\nFought scient...   \n",
       "\n",
       "                                             prop_mask  \\\n",
       "0    [0, 0, 0, 0, 0, 0, 0, 0, 0, 0, 0, 0, 0, 0, 0, ...   \n",
       "1    [0, 0, 0, 0, 0, 0, 0, 0, 0, 0, 0, 0, 0, 0, 0, ...   \n",
       "2    [0, 0, 0, 0, 0, 0, 0, 0, 0, 0, 0, 0, 0, 0, 0, ...   \n",
       "3    [0, 0, 0, 0, 0, 0, 0, 0, 0, 0, 0, 0, 0, 0, 0, ...   \n",
       "4    [0, 0, 0, 0, 0, 0, 0, 0, 0, 0, 0, 0, 0, 0, 0, ...   \n",
       "..                                                 ...   \n",
       "118  [1, 1, 1, 1, 1, 1, 1, 1, 1, 1, 1, 1, 1, 1, 1, ...   \n",
       "119  [1, 1, 1, 1, 1, 1, 1, 1, 1, 1, 1, 1, 1, 1, 1, ...   \n",
       "120  [1, 1, 1, 1, 1, 1, 1, 1, 1, 1, 1, 1, 1, 1, 1, ...   \n",
       "121  [0, 0, 0, 0, 0, 0, 0, 0, 0, 0, 0, 0, 0, 0, 0, ...   \n",
       "122  [1, 1, 1, 1, 1, 1, 1, 1, 1, 1, 1, 1, 1, 1, 1, ...   \n",
       "\n",
       "                     technique  \\\n",
       "0              Loaded Language   \n",
       "1        Name calling/Labeling   \n",
       "2    Exaggeration/Minimisation   \n",
       "3              Loaded Language   \n",
       "4        Name calling/Labeling   \n",
       "..                         ...   \n",
       "118            Loaded Language   \n",
       "119      Name calling/Labeling   \n",
       "120   Appeal to fear/prejudice   \n",
       "121            Loaded Language   \n",
       "122                     Smears   \n",
       "\n",
       "                                         col_input_ids  \\\n",
       "0    [101, 179, 7745, 6055, 1103, 12069, 180, 16996...   \n",
       "1    [101, 179, 7745, 6055, 1103, 12069, 180, 16996...   \n",
       "2    [101, 1309, 1354, 181, 112, 173, 2939, 2935, 1...   \n",
       "3    [101, 1309, 1354, 181, 112, 173, 2939, 2935, 1...   \n",
       "4    [101, 1309, 1354, 181, 112, 173, 2939, 2935, 1...   \n",
       "..                                                 ...   \n",
       "118  [101, 1260, 2093, 2875, 2365, 184, 1830, 2728,...   \n",
       "119  [101, 1260, 2093, 2875, 2365, 184, 1830, 2728,...   \n",
       "120  [101, 1400, 18500, 117, 1288, 116, 1821, 26237...   \n",
       "121  [101, 1400, 18500, 117, 1288, 116, 1821, 26237...   \n",
       "122  [101, 1400, 18500, 117, 1288, 116, 1821, 26237...   \n",
       "\n",
       "                                    col_attention_mask  \\\n",
       "0    [1, 1, 1, 1, 1, 1, 1, 1, 1, 1, 1, 1, 1, 1, 1, ...   \n",
       "1    [1, 1, 1, 1, 1, 1, 1, 1, 1, 1, 1, 1, 1, 1, 1, ...   \n",
       "2    [1, 1, 1, 1, 1, 1, 1, 1, 1, 1, 1, 1, 1, 1, 1, ...   \n",
       "3    [1, 1, 1, 1, 1, 1, 1, 1, 1, 1, 1, 1, 1, 1, 1, ...   \n",
       "4    [1, 1, 1, 1, 1, 1, 1, 1, 1, 1, 1, 1, 1, 1, 1, ...   \n",
       "..                                                 ...   \n",
       "118  [1, 1, 1, 1, 1, 1, 1, 1, 1, 1, 1, 1, 1, 1, 1, ...   \n",
       "119  [1, 1, 1, 1, 1, 1, 1, 1, 1, 1, 1, 1, 1, 1, 1, ...   \n",
       "120  [1, 1, 1, 1, 1, 1, 1, 1, 1, 1, 1, 1, 1, 1, 1, ...   \n",
       "121  [1, 1, 1, 1, 1, 1, 1, 1, 1, 1, 1, 1, 1, 1, 1, ...   \n",
       "122  [1, 1, 1, 1, 1, 1, 1, 1, 1, 1, 1, 1, 1, 1, 1, ...   \n",
       "\n",
       "                                    col_token_type_ids  \\\n",
       "0    [0, 0, 0, 0, 0, 0, 0, 0, 0, 0, 0, 0, 0, 0, 0, ...   \n",
       "1    [0, 0, 0, 0, 0, 0, 0, 0, 0, 0, 0, 0, 0, 0, 0, ...   \n",
       "2    [0, 0, 0, 0, 0, 0, 0, 0, 0, 0, 0, 0, 0, 0, 0, ...   \n",
       "3    [0, 0, 0, 0, 0, 0, 0, 0, 0, 0, 0, 0, 0, 0, 0, ...   \n",
       "4    [0, 0, 0, 0, 0, 0, 0, 0, 0, 0, 0, 0, 0, 0, 0, ...   \n",
       "..                                                 ...   \n",
       "118  [0, 0, 0, 0, 0, 0, 0, 0, 0, 0, 0, 0, 0, 0, 0, ...   \n",
       "119  [0, 0, 0, 0, 0, 0, 0, 0, 0, 0, 0, 0, 0, 0, 0, ...   \n",
       "120  [0, 0, 0, 0, 0, 0, 0, 0, 0, 0, 0, 0, 0, 0, 0, ...   \n",
       "121  [0, 0, 0, 0, 0, 0, 0, 0, 0, 0, 0, 0, 0, 0, 0, ...   \n",
       "122  [0, 0, 0, 0, 0, 0, 0, 0, 0, 0, 0, 0, 0, 0, 0, ...   \n",
       "\n",
       "                                   col_token_prop_mask  \n",
       "0    [0, 0, 0, 0, 0, 0, 0, 0, 0, 0, 0, 0, 0, 1, 1, ...  \n",
       "1    [0, 0, 0, 0, 0, 1, 1, 1, 1, 1, 0, 0, 0, 0, 0, ...  \n",
       "2    [0, 0, 0, 0, 0, 0, 1, 1, 0, 0, 0, 0, 0, 0, 0, ...  \n",
       "3    [0, 0, 0, 0, 0, 0, 0, 0, 1, 1, 1, 1, 1, 1, 1, ...  \n",
       "4    [0, 0, 0, 0, 0, 0, 0, 0, 1, 1, 1, 1, 1, 1, 1, ...  \n",
       "..                                                 ...  \n",
       "118  [0, 1, 1, 1, 1, 1, 1, 1, 1, 1, 1, 1, 1, 1, 1, ...  \n",
       "119  [0, 1, 1, 1, 1, 1, 1, 1, 1, 1, 1, 1, 1, 1, 1, ...  \n",
       "120  [0, 1, 1, 1, 1, 1, 1, 1, 1, 1, 0, 0, 0, 0, 0, ...  \n",
       "121  [0, 0, 0, 0, 0, 0, 0, 0, 0, 1, 0, 0, 0, 0, 0, ...  \n",
       "122  [0, 1, 1, 1, 1, 1, 1, 1, 1, 1, 1, 1, 1, 1, 1, ...  \n",
       "\n",
       "[123 rows x 7 columns]"
      ]
     },
     "execution_count": 58,
     "metadata": {},
     "output_type": "execute_result"
    }
   ],
   "source": [
    "sep_dev_pd"
   ]
  },
  {
   "cell_type": "code",
   "execution_count": 59,
   "metadata": {
    "id": "6J9liVnFlzvs"
   },
   "outputs": [],
   "source": [
    "import torch.nn as nn\n",
    "\n",
    "class Model(transformers.BertPreTrainedModel):\n",
    "    def __init__(self, config, PATH):\n",
    "        super(Model, self).__init__(config)\n",
    "        self.bert = transformers.BertModel.from_pretrained(PATH)\n",
    "        self.linear = nn.Linear(1024, 1)\n",
    "        self.flatten = nn.Flatten()\n",
    "        self.sigm = nn.Sigmoid()\n",
    "    \n",
    "    def forward(self, ids, mask, token_type_ids):\n",
    "        embedding = self.bert(\n",
    "            ids,\n",
    "            attention_mask=mask,\n",
    "            token_type_ids=token_type_ids\n",
    "        )[0]\n",
    "        logits = self.linear(embedding)\n",
    "        logits = self.flatten(logits)\n",
    "        result = self.sigm(logits)\n",
    "        return result"
   ]
  },
  {
   "cell_type": "code",
   "execution_count": 60,
   "metadata": {
    "id": "80PozV5KpMEx",
    "scrolled": true
   },
   "outputs": [],
   "source": [
    "PATH = 'tune_model/squad2'\n",
    "\n",
    "bert = transformers.BertModel.from_pretrained(PATH)\n",
    "my_model = Model(bert.config, PATH)"
   ]
  },
  {
   "cell_type": "code",
   "execution_count": 61,
   "metadata": {
    "id": "qZ0Xr8kUpMEx"
   },
   "outputs": [],
   "source": [
    "import torch.nn as nn\n",
    "import torch.nn.functional as F\n",
    "import torch.optim as optim\n",
    "\n",
    "optimizer = optim.SGD(my_model.parameters(), lr=1e-2)\n",
    "criterion = nn.BCELoss()"
   ]
  },
  {
   "cell_type": "code",
   "execution_count": 62,
   "metadata": {
    "colab": {
     "base_uri": "https://localhost:8080/",
     "height": 35
    },
    "id": "0Ap5F7ZCqvV1",
    "outputId": "03c29c66-a415-44c4-985a-9319c01b7d07"
   },
   "outputs": [
    {
     "data": {
      "text/plain": [
       "'cpu'"
      ]
     },
     "execution_count": 62,
     "metadata": {},
     "output_type": "execute_result"
    }
   ],
   "source": [
    "import torch\n",
    "\n",
    "if torch.cuda.is_available():  \n",
    "  dev = \"cuda:0\" \n",
    "else:  \n",
    "  dev = \"cpu\" \n",
    "\n",
    "dev"
   ]
  },
  {
   "cell_type": "code",
   "execution_count": 63,
   "metadata": {
    "colab": {
     "base_uri": "https://localhost:8080/"
    },
    "id": "FbXb-N_Yq9yP",
    "outputId": "b28ea17b-0b81-45ce-e5b1-893ff5dee914"
   },
   "outputs": [
    {
     "name": "stdout",
     "output_type": "stream",
     "text": [
      "1\n"
     ]
    }
   ],
   "source": [
    "my_model.to(dev)\n",
    "print(1)"
   ]
  },
  {
   "cell_type": "code",
   "execution_count": 64,
   "metadata": {
    "id": "NEL7Punk1pVl"
   },
   "outputs": [],
   "source": [
    "import matplotlib.pyplot as plt\n",
    "\n",
    "def hist_graph(model, i, line):\n",
    "    #take data\n",
    "    ids = torch.tensor([list(sep_dev_pd[\"col_input_ids\"][i])]).to(dev)\n",
    "    attention_mask = torch.tensor([list(sep_dev_pd[\"col_attention_mask\"][i])]).to(dev)\n",
    "    type_ids = torch.tensor([list(sep_dev_pd[\"col_token_type_ids\"][i])]).to(dev)\n",
    "    #take model\n",
    "    model.eval()\n",
    "    with torch.no_grad():\n",
    "        ans_seq_tok = np.array(sep_dev_pd[\"col_input_ids\"][i])\n",
    "        output = model(ids, attention_mask, type_ids)\n",
    "        ans_mask = (torch.squeeze(output, dim=1)[0]).cpu()\n",
    "        plt.figure(figsize=(18,8))\n",
    "        words = []\n",
    "        end = 0\n",
    "        for j in range(len(ans_seq_tok)):\n",
    "            if ans_seq_tok[j] == 102:\n",
    "                end = j\n",
    "                break\n",
    "            words += [tokenizer.decode(int(ans_seq_tok[j])) + \"_\" + str(j)]\n",
    "        plt.hlines(line, xmin=0, xmax=end, color ='r')\n",
    "        plt.plot(words, ans_mask[:end], drawstyle='steps-mid', label='steps-mid', color ='black')\n",
    "    plt.show()"
   ]
  },
  {
   "cell_type": "code",
   "execution_count": 65,
   "metadata": {
    "id": "dIUyq_K33HbU"
   },
   "outputs": [],
   "source": [
    "def text_check(model, i, line):\n",
    "    #take data\n",
    "    ids = torch.tensor([list(sep_dev_pd[\"col_input_ids\"][i])]).to(dev)\n",
    "    attention_mask = torch.tensor([list(sep_dev_pd[\"col_attention_mask\"][i])]).to(dev)\n",
    "    type_ids = torch.tensor([list(sep_dev_pd[\"col_token_type_ids\"][i])]).to(dev)\n",
    "    #take model\n",
    "    model.eval()\n",
    "    with torch.no_grad():\n",
    "        output = model(ids, attention_mask, type_ids)\n",
    "        ans_mask = (torch.squeeze(output, dim=1)[0] > line).cpu()\n",
    "        if sum(ans_mask) > 0:\n",
    "            print(\"technique:\", sep_dev_pd[\"technique\"][i])\n",
    "            print(\"---\")\n",
    "            print(\"text:\", sep_dev_pd[\"text\"][i])\n",
    "            print(\"---\")\n",
    "            ans_seq_tok = np.array(sep_dev_pd[\"col_input_ids\"][i])[ans_mask == 1]\n",
    "            print(\"ans:\", tokenizer.decode(ans_seq_tok))\n",
    "            print(\"---\")\n",
    "            ans_mask = np.array(sep_dev_pd[\"col_token_prop_mask\"][i])\n",
    "            ans_seq_tok = np.array(sep_dev_pd[\"col_input_ids\"][i])[ans_mask == 1]\n",
    "            print(\"true ans:\", tokenizer.decode(ans_seq_tok))\n",
    "            print(\"---\")\n",
    "            hist_graph(my_model, 0, line)\n",
    "            plt.show()\n",
    "            return True\n",
    "        print(\"---\")\n",
    "        return False"
   ]
  },
  {
   "cell_type": "code",
   "execution_count": 66,
   "metadata": {
    "colab": {
     "base_uri": "https://localhost:8080/",
     "height": 700
    },
    "id": "GTm9IklVnejX",
    "outputId": "811ef70f-7fd1-44ea-ac4c-bd0d9010b6e1"
   },
   "outputs": [
    {
     "name": "stdout",
     "output_type": "stream",
     "text": [
      "technique: Loaded Language\n",
      "---\n",
      "text: JOE  VERSUS THE VOLCANIC KREMLIN DON\n",
      "\n",
      "\"WILL YOU SHUT UP, MAN?\"\n",
      "\n",
      "LORD OF THE LIES\n",
      "---\n",
      "ans: [CLS]\n",
      "---\n",
      "true ans: shut up lord of the lies\n",
      "---\n"
     ]
    },
    {
     "data": {
      "image/png": "[encoded data removed]",
      "text/plain": [
       "<Figure size 1296x576 with 1 Axes>"
      ]
     },
     "metadata": {
      "needs_background": "light"
     },
     "output_type": "display_data"
    },
    {
     "data": {
      "text/plain": [
       "True"
      ]
     },
     "execution_count": 66,
     "metadata": {},
     "output_type": "execute_result"
    }
   ],
   "source": [
    "text_check(my_model, 0, 0.5) "
   ]
  },
  {
   "cell_type": "code",
   "execution_count": 67,
   "metadata": {
    "id": "8fZEuyYKFiAV"
   },
   "outputs": [],
   "source": [
    "def check_metrics(model, data, line=0.5):\n",
    "    batch_size = 10\n",
    "    M = data.shape[0]\n",
    "    tp = 0\n",
    "    fp = 0\n",
    "    tn = 0\n",
    "    fn = 0\n",
    "\n",
    "    model.eval()\n",
    "    with torch.no_grad():\n",
    "        for i in range(0, M, batch_size):\n",
    "            start = i\n",
    "            end = i + batch_size if i + batch_size < M else M\n",
    "            ids = torch.tensor(list(data[\"col_input_ids\"][start:end])).to(dev)\n",
    "            attention_mask = torch.tensor(list(data[\"col_attention_mask\"][start:end])).to(dev)\n",
    "            type_ids = torch.tensor(list(data[\"col_token_type_ids\"][start:end])).to(dev)\n",
    "            target = torch.tensor(list(data[\"col_token_prop_mask\"][start:end]), dtype=torch.float).to(dev)\n",
    "            \n",
    "            output = my_model(ids, attention_mask, type_ids)\n",
    "            output = (torch.squeeze(output, dim=1) > line).type(torch.int16)\n",
    "            sum_tens = output + target\n",
    "            diff_tens = output - target\n",
    "            tp += (sum_tens == 2).sum().item()\n",
    "            fp += (diff_tens == 1).sum().item()\n",
    "            tn += (sum_tens == 0).sum().item()\n",
    "            fn += (diff_tens == -1).sum().item()\n",
    "\n",
    "    precision = tp / (tp + fp)\n",
    "    recall = tp / (tp + fn)\n",
    "    accuracy = (tp + tn) / (tp + tn + fp + fn)\n",
    "    F = 2 * precision * recall / (precision + recall)\n",
    "    print(f\"precision={precision}, recall={recall}, accuracy={accuracy}, F={F}\")\n",
    "    return precision, recall, accuracy, F"
   ]
  },
  {
   "cell_type": "code",
   "execution_count": 28,
   "metadata": {
    "colab": {
     "base_uri": "https://localhost:8080/"
    },
    "id": "FPxrVF-ZpMEy",
    "outputId": "c12f237b-e901-4421-ed46-e3f753986a07"
   },
   "outputs": [
    {
     "name": "stderr",
     "output_type": "stream",
     "text": []
    },
    {
     "name": "stdout",
     "output_type": "stream",
     "text": [
      "precision=0.725121359223301, recall=0.7104637336504162, accuracy=0.9402947154471545, F=0.7177177177177178\n"
     ]
    },
    {
     "name": "stderr",
     "output_type": "stream",
     "text": [
      "\r",
      "  0%|          | 0/237 [00:00<?, ?it/s]"
     ]
    },
    {
     "name": "stdout",
     "output_type": "stream",
     "text": [
      "epoch 0: train_loss = 33.466026306152344, dev_loss = 1.8760626316070557\n"
     ]
    },
    {
     "name": "stderr",
     "output_type": "stream",
     "text": []
    },
    {
     "name": "stdout",
     "output_type": "stream",
     "text": [
      "precision=0.7587281795511222, recall=0.7235434007134364, accuracy=0.9458841463414634, F=0.740718198417529\n"
     ]
    },
    {
     "name": "stderr",
     "output_type": "stream",
     "text": [
      "\r",
      "  0%|          | 0/237 [00:00<?, ?it/s]"
     ]
    },
    {
     "name": "stdout",
     "output_type": "stream",
     "text": [
      "epoch 1: train_loss = 29.186553955078125, dev_loss = 1.6826038360595703\n"
     ]
    },
    {
     "name": "stderr",
     "output_type": "stream",
     "text": []
    },
    {
     "name": "stdout",
     "output_type": "stream",
     "text": [
      "precision=0.7254366812227074, recall=0.7901307966706302, accuracy=0.945630081300813, F=0.7564029595902106\n"
     ]
    },
    {
     "name": "stderr",
     "output_type": "stream",
     "text": [
      "\r",
      "  0%|          | 0/237 [00:00<?, ?it/s]"
     ]
    },
    {
     "name": "stdout",
     "output_type": "stream",
     "text": [
      "epoch 2: train_loss = 26.498409271240234, dev_loss = 1.7217918634414673\n"
     ]
    },
    {
     "name": "stderr",
     "output_type": "stream",
     "text": []
    },
    {
     "name": "stdout",
     "output_type": "stream",
     "text": [
      "precision=0.7599531615925058, recall=0.7717003567181926, accuracy=0.9495680894308943, F=0.7657817109144543\n"
     ]
    },
    {
     "name": "stderr",
     "output_type": "stream",
     "text": [
      "\r",
      "  0%|          | 0/237 [00:00<?, ?it/s]"
     ]
    },
    {
     "name": "stdout",
     "output_type": "stream",
     "text": [
      "epoch 3: train_loss = 23.96092414855957, dev_loss = 1.644991397857666\n"
     ]
    },
    {
     "name": "stderr",
     "output_type": "stream",
     "text": []
    },
    {
     "name": "stdout",
     "output_type": "stream",
     "text": [
      "precision=0.7509771077610273, recall=0.7996432818073722, accuracy=0.950266768292683, F=0.7745465015836451\n",
      "epoch 4: train_loss = 21.77276611328125, dev_loss = 1.5992634296417236\n"
     ]
    }
   ],
   "source": [
    "import tqdm\n",
    "\n",
    "EPOCHS = 4\n",
    "batch_size = 5\n",
    "dev_batch_size = 10\n",
    "N = len(sep_train_pd)\n",
    "M = len(sep_dev_pd)\n",
    "data = sep_train_pd.values\n",
    "\n",
    "precision = []\n",
    "recall = []\n",
    "accuracy = []\n",
    "F = []\n",
    "\n",
    "for epoch in range(EPOCHS):\n",
    "    \n",
    "    my_model.train()\n",
    "    train_loss = 0\n",
    "    for i in tqdm.tqdm(range(0, N, batch_size), leave=False):\n",
    "        start = i\n",
    "        end = i + batch_size if i + batch_size < N else N\n",
    "        ids = torch.tensor(list(sep_train_pd[\"col_input_ids\"][start:end])).to(dev)\n",
    "        attention_mask = torch.tensor(list(sep_train_pd[\"col_attention_mask\"][start:end])).to(dev)\n",
    "        type_ids = torch.tensor(list(sep_train_pd[\"col_token_type_ids\"][start:end])).to(dev)\n",
    "        target = torch.tensor(list(sep_train_pd[\"col_token_prop_mask\"][start:end]), dtype=torch.float).to(dev)\n",
    "        \n",
    "        optimizer.zero_grad()\n",
    "        output = my_model(ids, attention_mask, type_ids)\n",
    "        output = torch.squeeze(output, dim=1)\n",
    "        loss = criterion(output, target * 0.99)\n",
    "        train_loss += loss\n",
    "        loss.backward()\n",
    "        optimizer.step()\n",
    "        \n",
    "    dev_loss = 0\n",
    "    check_metrics(my_model, sep_dev_pd, 0.5)\n",
    "    my_model.eval()\n",
    "    with torch.no_grad():\n",
    "        for i in range(0, M, dev_batch_size):\n",
    "            start = i\n",
    "            end = i + dev_batch_size if i + dev_batch_size < M else M\n",
    "            ids = torch.tensor(list(sep_dev_pd[\"col_input_ids\"][start:end])).to(dev)\n",
    "            attention_mask = torch.tensor(list(sep_dev_pd[\"col_attention_mask\"][start:end])).to(dev)\n",
    "            type_ids = torch.tensor(list(sep_dev_pd[\"col_token_type_ids\"][start:end])).to(dev)\n",
    "            target = torch.tensor(list(sep_dev_pd[\"col_token_prop_mask\"][start:end]), dtype=torch.float).to(dev)\n",
    "            \n",
    "            output = my_model(ids, attention_mask, type_ids)\n",
    "            output = torch.squeeze(output, dim=1)\n",
    "            loss = criterion(output, target * 0.99)\n",
    "            dev_loss += loss\n",
    "        print(f\"epoch {epoch}: train_loss = {train_loss}, dev_loss = {dev_loss}\")"
   ]
  },
  {
   "cell_type": "code",
   "execution_count": 76,
   "metadata": {
    "colab": {
     "base_uri": "https://localhost:8080/"
    },
    "id": "Sk1domLiNFLR",
    "outputId": "5859f3f6-5e68-4cb3-f728-ea6f7434b816"
   },
   "outputs": [
    {
     "name": "stdout",
     "output_type": "stream",
     "text": [
      "precision=0.23191489361702128, recall=0.06480380499405469, accuracy=0.8771595528455285, F=0.10130111524163568\n"
     ]
    }
   ],
   "source": [
    "check_metrics(my_model, sep_dev_pd)"
   ]
  },
  {
   "cell_type": "code",
   "execution_count": null,
   "metadata": {
    "id": "GfKKOr6kqphh"
   },
   "outputs": [],
   "source": [
    "torch.save(my_model.state_dict(), \"models/model.pth\")"
   ]
  }
 ],
 "metadata": {
  "colab": {
   "collapsed_sections": [],
   "name": "diplom.ipynb",
   "provenance": []
  },
  "kernelspec": {
   "display_name": "Python 3",
   "language": "python",
   "name": "python3"
  },
  "language_info": {
   "codemirror_mode": {
    "name": "ipython",
    "version": 3
   },
   "file_extension": ".py",
   "mimetype": "text/x-python",
   "name": "python",
   "nbconvert_exporter": "python",
   "pygments_lexer": "ipython3",
   "version": "3.8.5"
  },
  "widgets": {
   "application/vnd.jupyter.widget-state+json": {
    "02bf06ed8c8b4c049c96e990e9fd837d": {
     "model_module": "@jupyter-widgets/controls",
     "model_name": "HTMLModel",
     "state": {
      "_dom_classes": [],
      "_model_module": "@jupyter-widgets/controls",
      "_model_module_version": "1.5.0",
      "_model_name": "HTMLModel",
      "_view_count": null,
      "_view_module": "@jupyter-widgets/controls",
      "_view_module_version": "1.5.0",
      "_view_name": "HTMLView",
      "description": "",
      "description_tooltip": null,
      "layout": "IPY_MODEL_45801f788fe24845be510e49fde1e2df",
      "placeholder": "​",
      "style": "IPY_MODEL_47db5fbd04684483af9f2a237d492311",
      "value": " 213k/213k [00:01&lt;00:00, 194kB/s]"
     }
    },
    "169d5450fc7c4bfdb88d76fd0c942852": {
     "model_module": "@jupyter-widgets/base",
     "model_name": "LayoutModel",
     "state": {
      "_model_module": "@jupyter-widgets/base",
      "_model_module_version": "1.2.0",
      "_model_name": "LayoutModel",
      "_view_count": null,
      "_view_module": "@jupyter-widgets/base",
      "_view_module_version": "1.2.0",
      "_view_name": "LayoutView",
      "align_content": null,
      "align_items": null,
      "align_self": null,
      "border": null,
      "bottom": null,
      "display": null,
      "flex": null,
      "flex_flow": null,
      "grid_area": null,
      "grid_auto_columns": null,
      "grid_auto_flow": null,
      "grid_auto_rows": null,
      "grid_column": null,
      "grid_gap": null,
      "grid_row": null,
      "grid_template_areas": null,
      "grid_template_columns": null,
      "grid_template_rows": null,
      "height": null,
      "justify_content": null,
      "justify_items": null,
      "left": null,
      "margin": null,
      "max_height": null,
      "max_width": null,
      "min_height": null,
      "min_width": null,
      "object_fit": null,
      "object_position": null,
      "order": null,
      "overflow": null,
      "overflow_x": null,
      "overflow_y": null,
      "padding": null,
      "right": null,
      "top": null,
      "visibility": null,
      "width": null
     }
    },
    "2928d886b29c4dc5a21b85ecec70905f": {
     "model_module": "@jupyter-widgets/controls",
     "model_name": "FloatProgressModel",
     "state": {
      "_dom_classes": [],
      "_model_module": "@jupyter-widgets/controls",
      "_model_module_version": "1.5.0",
      "_model_name": "FloatProgressModel",
      "_view_count": null,
      "_view_module": "@jupyter-widgets/controls",
      "_view_module_version": "1.5.0",
      "_view_name": "ProgressView",
      "bar_style": "success",
      "description": "Downloading: 100%",
      "description_tooltip": null,
      "layout": "IPY_MODEL_169d5450fc7c4bfdb88d76fd0c942852",
      "max": 413,
      "min": 0,
      "orientation": "horizontal",
      "style": "IPY_MODEL_fbad4c6f245449b781423089b70475a7",
      "value": 413
     }
    },
    "45801f788fe24845be510e49fde1e2df": {
     "model_module": "@jupyter-widgets/base",
     "model_name": "LayoutModel",
     "state": {
      "_model_module": "@jupyter-widgets/base",
      "_model_module_version": "1.2.0",
      "_model_name": "LayoutModel",
      "_view_count": null,
      "_view_module": "@jupyter-widgets/base",
      "_view_module_version": "1.2.0",
      "_view_name": "LayoutView",
      "align_content": null,
      "align_items": null,
      "align_self": null,
      "border": null,
      "bottom": null,
      "display": null,
      "flex": null,
      "flex_flow": null,
      "grid_area": null,
      "grid_auto_columns": null,
      "grid_auto_flow": null,
      "grid_auto_rows": null,
      "grid_column": null,
      "grid_gap": null,
      "grid_row": null,
      "grid_template_areas": null,
      "grid_template_columns": null,
      "grid_template_rows": null,
      "height": null,
      "justify_content": null,
      "justify_items": null,
      "left": null,
      "margin": null,
      "max_height": null,
      "max_width": null,
      "min_height": null,
      "min_width": null,
      "object_fit": null,
      "object_position": null,
      "order": null,
      "overflow": null,
      "overflow_x": null,
      "overflow_y": null,
      "padding": null,
      "right": null,
      "top": null,
      "visibility": null,
      "width": null
     }
    },
    "47db5fbd04684483af9f2a237d492311": {
     "model_module": "@jupyter-widgets/controls",
     "model_name": "DescriptionStyleModel",
     "state": {
      "_model_module": "@jupyter-widgets/controls",
      "_model_module_version": "1.5.0",
      "_model_name": "DescriptionStyleModel",
      "_view_count": null,
      "_view_module": "@jupyter-widgets/base",
      "_view_module_version": "1.2.0",
      "_view_name": "StyleView",
      "description_width": ""
     }
    },
    "55c039342f0d4a9da3f72867dafdf952": {
     "model_module": "@jupyter-widgets/base",
     "model_name": "LayoutModel",
     "state": {
      "_model_module": "@jupyter-widgets/base",
      "_model_module_version": "1.2.0",
      "_model_name": "LayoutModel",
      "_view_count": null,
      "_view_module": "@jupyter-widgets/base",
      "_view_module_version": "1.2.0",
      "_view_name": "LayoutView",
      "align_content": null,
      "align_items": null,
      "align_self": null,
      "border": null,
      "bottom": null,
      "display": null,
      "flex": null,
      "flex_flow": null,
      "grid_area": null,
      "grid_auto_columns": null,
      "grid_auto_flow": null,
      "grid_auto_rows": null,
      "grid_column": null,
      "grid_gap": null,
      "grid_row": null,
      "grid_template_areas": null,
      "grid_template_columns": null,
      "grid_template_rows": null,
      "height": null,
      "justify_content": null,
      "justify_items": null,
      "left": null,
      "margin": null,
      "max_height": null,
      "max_width": null,
      "min_height": null,
      "min_width": null,
      "object_fit": null,
      "object_position": null,
      "order": null,
      "overflow": null,
      "overflow_x": null,
      "overflow_y": null,
      "padding": null,
      "right": null,
      "top": null,
      "visibility": null,
      "width": null
     }
    },
    "5eb8475df57047c8b24401e038a12d7b": {
     "model_module": "@jupyter-widgets/controls",
     "model_name": "ProgressStyleModel",
     "state": {
      "_model_module": "@jupyter-widgets/controls",
      "_model_module_version": "1.5.0",
      "_model_name": "ProgressStyleModel",
      "_view_count": null,
      "_view_module": "@jupyter-widgets/base",
      "_view_module_version": "1.2.0",
      "_view_name": "StyleView",
      "bar_color": null,
      "description_width": "initial"
     }
    },
    "6353f804a8304e68a638f6db27c8ebd7": {
     "model_module": "@jupyter-widgets/controls",
     "model_name": "DescriptionStyleModel",
     "state": {
      "_model_module": "@jupyter-widgets/controls",
      "_model_module_version": "1.5.0",
      "_model_name": "DescriptionStyleModel",
      "_view_count": null,
      "_view_module": "@jupyter-widgets/base",
      "_view_module_version": "1.2.0",
      "_view_name": "StyleView",
      "description_width": ""
     }
    },
    "6f6807a0e1fb4ca8a183e59d80138265": {
     "model_module": "@jupyter-widgets/base",
     "model_name": "LayoutModel",
     "state": {
      "_model_module": "@jupyter-widgets/base",
      "_model_module_version": "1.2.0",
      "_model_name": "LayoutModel",
      "_view_count": null,
      "_view_module": "@jupyter-widgets/base",
      "_view_module_version": "1.2.0",
      "_view_name": "LayoutView",
      "align_content": null,
      "align_items": null,
      "align_self": null,
      "border": null,
      "bottom": null,
      "display": null,
      "flex": null,
      "flex_flow": null,
      "grid_area": null,
      "grid_auto_columns": null,
      "grid_auto_flow": null,
      "grid_auto_rows": null,
      "grid_column": null,
      "grid_gap": null,
      "grid_row": null,
      "grid_template_areas": null,
      "grid_template_columns": null,
      "grid_template_rows": null,
      "height": null,
      "justify_content": null,
      "justify_items": null,
      "left": null,
      "margin": null,
      "max_height": null,
      "max_width": null,
      "min_height": null,
      "min_width": null,
      "object_fit": null,
      "object_position": null,
      "order": null,
      "overflow": null,
      "overflow_x": null,
      "overflow_y": null,
      "padding": null,
      "right": null,
      "top": null,
      "visibility": null,
      "width": null
     }
    },
    "9b1778789915413091dc2aedbf078adb": {
     "model_module": "@jupyter-widgets/controls",
     "model_name": "HBoxModel",
     "state": {
      "_dom_classes": [],
      "_model_module": "@jupyter-widgets/controls",
      "_model_module_version": "1.5.0",
      "_model_name": "HBoxModel",
      "_view_count": null,
      "_view_module": "@jupyter-widgets/controls",
      "_view_module_version": "1.5.0",
      "_view_name": "HBoxView",
      "box_style": "",
      "children": [
       "IPY_MODEL_ab7f40ac574346e5aff9d0fd65c7e197",
       "IPY_MODEL_02bf06ed8c8b4c049c96e990e9fd837d"
      ],
      "layout": "IPY_MODEL_55c039342f0d4a9da3f72867dafdf952"
     }
    },
    "ab7f40ac574346e5aff9d0fd65c7e197": {
     "model_module": "@jupyter-widgets/controls",
     "model_name": "FloatProgressModel",
     "state": {
      "_dom_classes": [],
      "_model_module": "@jupyter-widgets/controls",
      "_model_module_version": "1.5.0",
      "_model_name": "FloatProgressModel",
      "_view_count": null,
      "_view_module": "@jupyter-widgets/controls",
      "_view_module_version": "1.5.0",
      "_view_name": "ProgressView",
      "bar_style": "success",
      "description": "Downloading: 100%",
      "description_tooltip": null,
      "layout": "IPY_MODEL_6f6807a0e1fb4ca8a183e59d80138265",
      "max": 213450,
      "min": 0,
      "orientation": "horizontal",
      "style": "IPY_MODEL_5eb8475df57047c8b24401e038a12d7b",
      "value": 213450
     }
    },
    "c40f2241970e48d5814282f1d78c4396": {
     "model_module": "@jupyter-widgets/controls",
     "model_name": "HTMLModel",
     "state": {
      "_dom_classes": [],
      "_model_module": "@jupyter-widgets/controls",
      "_model_module_version": "1.5.0",
      "_model_name": "HTMLModel",
      "_view_count": null,
      "_view_module": "@jupyter-widgets/controls",
      "_view_module_version": "1.5.0",
      "_view_name": "HTMLView",
      "description": "",
      "description_tooltip": null,
      "layout": "IPY_MODEL_f8e0bd9d3ffe45dfb6d2c7765ea7500b",
      "placeholder": "​",
      "style": "IPY_MODEL_6353f804a8304e68a638f6db27c8ebd7",
      "value": " 413/413 [00:01&lt;00:00, 263B/s]"
     }
    },
    "f21694c44af3473db1a03a8872efc7ba": {
     "model_module": "@jupyter-widgets/controls",
     "model_name": "HBoxModel",
     "state": {
      "_dom_classes": [],
      "_model_module": "@jupyter-widgets/controls",
      "_model_module_version": "1.5.0",
      "_model_name": "HBoxModel",
      "_view_count": null,
      "_view_module": "@jupyter-widgets/controls",
      "_view_module_version": "1.5.0",
      "_view_name": "HBoxView",
      "box_style": "",
      "children": [
       "IPY_MODEL_2928d886b29c4dc5a21b85ecec70905f",
       "IPY_MODEL_c40f2241970e48d5814282f1d78c4396"
      ],
      "layout": "IPY_MODEL_f389e887e8dd43c5a93cb9bd172d1913"
     }
    },
    "f389e887e8dd43c5a93cb9bd172d1913": {
     "model_module": "@jupyter-widgets/base",
     "model_name": "LayoutModel",
     "state": {
      "_model_module": "@jupyter-widgets/base",
      "_model_module_version": "1.2.0",
      "_model_name": "LayoutModel",
      "_view_count": null,
      "_view_module": "@jupyter-widgets/base",
      "_view_module_version": "1.2.0",
      "_view_name": "LayoutView",
      "align_content": null,
      "align_items": null,
      "align_self": null,
      "border": null,
      "bottom": null,
      "display": null,
      "flex": null,
      "flex_flow": null,
      "grid_area": null,
      "grid_auto_columns": null,
      "grid_auto_flow": null,
      "grid_auto_rows": null,
      "grid_column": null,
      "grid_gap": null,
      "grid_row": null,
      "grid_template_areas": null,
      "grid_template_columns": null,
      "grid_template_rows": null,
      "height": null,
      "justify_content": null,
      "justify_items": null,
      "left": null,
      "margin": null,
      "max_height": null,
      "max_width": null,
      "min_height": null,
      "min_width": null,
      "object_fit": null,
      "object_position": null,
      "order": null,
      "overflow": null,
      "overflow_x": null,
      "overflow_y": null,
      "padding": null,
      "right": null,
      "top": null,
      "visibility": null,
      "width": null
     }
    },
    "f8e0bd9d3ffe45dfb6d2c7765ea7500b": {
     "model_module": "@jupyter-widgets/base",
     "model_name": "LayoutModel",
     "state": {
      "_model_module": "@jupyter-widgets/base",
      "_model_module_version": "1.2.0",
      "_model_name": "LayoutModel",
      "_view_count": null,
      "_view_module": "@jupyter-widgets/base",
      "_view_module_version": "1.2.0",
      "_view_name": "LayoutView",
      "align_content": null,
      "align_items": null,
      "align_self": null,
      "border": null,
      "bottom": null,
      "display": null,
      "flex": null,
      "flex_flow": null,
      "grid_area": null,
      "grid_auto_columns": null,
      "grid_auto_flow": null,
      "grid_auto_rows": null,
      "grid_column": null,
      "grid_gap": null,
      "grid_row": null,
      "grid_template_areas": null,
      "grid_template_columns": null,
      "grid_template_rows": null,
      "height": null,
      "justify_content": null,
      "justify_items": null,
      "left": null,
      "margin": null,
      "max_height": null,
      "max_width": null,
      "min_height": null,
      "min_width": null,
      "object_fit": null,
      "object_position": null,
      "order": null,
      "overflow": null,
      "overflow_x": null,
      "overflow_y": null,
      "padding": null,
      "right": null,
      "top": null,
      "visibility": null,
      "width": null
     }
    },
    "fbad4c6f245449b781423089b70475a7": {
     "model_module": "@jupyter-widgets/controls",
     "model_name": "ProgressStyleModel",
     "state": {
      "_model_module": "@jupyter-widgets/controls",
      "_model_module_version": "1.5.0",
      "_model_name": "ProgressStyleModel",
      "_view_count": null,
      "_view_module": "@jupyter-widgets/base",
      "_view_module_version": "1.2.0",
      "_view_name": "StyleView",
      "bar_color": null,
      "description_width": "initial"
     }
    }
   }
  }
 },
 "nbformat": 4,
 "nbformat_minor": 1
}
